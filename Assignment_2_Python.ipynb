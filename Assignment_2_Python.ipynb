{
  "nbformat": 4,
  "nbformat_minor": 0,
  "metadata": {
    "colab": {
      "provenance": [],
      "authorship_tag": "ABX9TyOejx7aT+gpjcafcrIFOcZd",
      "include_colab_link": true
    },
    "kernelspec": {
      "name": "python3",
      "display_name": "Python 3"
    },
    "language_info": {
      "name": "python"
    }
  },
  "cells": [
    {
      "cell_type": "markdown",
      "metadata": {
        "id": "view-in-github",
        "colab_type": "text"
      },
      "source": [
        "<a href=\"https://colab.research.google.com/github/Sambhaji6529/Python_Assignment/blob/main/Assignment_2_Python.ipynb\" target=\"_parent\"><img src=\"https://colab.research.google.com/assets/colab-badge.svg\" alt=\"Open In Colab\"/></a>"
      ]
    },
    {
      "cell_type": "markdown",
      "source": [
        "**Q.1 What’s The Difference Between The Python append() and extend() Methods?**"
      ],
      "metadata": {
        "id": "xPhlw0Cz7Bgw"
      }
    },
    {
      "cell_type": "markdown",
      "source": [
        "![Screenshot (31).png](data:image/png;base64,iVBORw0KGgoAAAANSUhEUgAAAmwAAAELCAYAAABkjNpaAAAAAXNSR0IArs4c6QAAAARnQU1BAACxjwv8YQUAAAAJcEhZcwAADsMAAA7DAcdvqGQAAD9oSURBVHhe7d3Paxz1/8Dxl9//wVSMPRRaEughuVQUingKgSx81Iv20EMoKTkIPbTqIVUWaQ+iHgpCQ0vNwUPxogU3EHMqUlDswRQstLSQQ4008Y/I9/1z5j0z79mdnd0ks8nzAdvuTmZn5+d7XvP++cquIgAAAGis/3P/AwAAoKEyOWyt9865dwAAADgonXt33TurELDlZwAA7D/SY+Doil3/FIkCAAA0HAEbAABAwxGwAQAANBwBGwAAQMMRsAEAADQcARsAAEDDEbABAAA0HAEbAABAwxGwAQAANBwBGwAAQMMRsAEAADQcARsAAEDDEbABAAA0HAEbAABAwzUkYHssy+99IZ0d93G/7KzLlffOSavw2zvS+UxPX5FH5qObb/mx+SsAYJ9UTafNfUR9/mxdts1n4HA5+IDNXIzXpOM+NsLGqiw/Vf/PvilT+vPYtLw7of5fuybLG3oCAOBA5dNpOS1vz6r/nq7I16v7/fQP7D2KRAvUU9vddfOu9dZp87+K2OTMO6fMu84f5LIBwMGKpdMiU2/NmP+f/LZBLhsOnQECNp8d7V+57OqNleRvSa5UkrV9Tq7oJyA9z8UVeWL++EyWL6q/hdnZwTLMK1ckub36hZ2uvxMsOzav9mg5+HuSjZ6zsyH39VObzMjb02aKcezMWZnUb9Z+3P+iWwDoIZu+FdO45O8qbUzSTvPKpd2ZIkhXzOhfsWohDUqnZfpNaen/n67Iz5SG4JCpGbDpi/iSzY5O2IArCc6m5+W6zp5WOm190akA71sXnE3MyydzY+ZvZcxF3rZPUIm1a/H6CerivJAEfo6a1wSFjk4EltbcB2NdlvLfUbYfPnDrOC6vmSnO2LicNG+eyT//mjcA0AjF9E1TaVws4FFp44Xbz9wHLZd2J/T0XHWVXBrcuHRaXpU3dPUV5fkWT9Y4XGoFbI+W3UU8e1U69+7aV9tmRetsan+hTi1etU87JuHwAd4pWbw8I8f0WxXUdW7N25wrPf2WWs5X6m/qKexrk6C4aeY3bsiivhBLnpwmF25k51OSbHG1vB9cIhCbL/TyhUvITozbdUyQEABooCR9m5HrufRYZFNeRJKrVtvNd8+n0dm0O6Eeru+4Zd5ZsNVCkjS4ken0mBw/Yd89efGffQMcEjUCth15sene6icpn3Xtn7KePpCHSQJxWhaThMNqtb+UVvfMNZF/t9wTlSsmNb+R5ugV65HNyPkkxy6tb+YlT2O5+VqXfbDopds2efxV+yZBQgCggcZm5BsT3MzLlAp6TJFjPtcrpB60F5NixCCNfrolL+07J3i4Vo7NfZwET+ahtZHptMhrx91yN7eKASgwwmoEbP/JP5mi0B58nQIjV9+gxPaWjwgrKmSLl6g6HwCMjKA+caT4cK+QTgP7q0bAlhYNptnW4Subg5YUnxrrshSrtJpzbNxlZakAL8niD1+LaaugKpLlFZ4gAWC0ba9+l+RqJUWduZKNjMo5T93r65JOA/urRsAWFA3eXk0qtGZaArlpuvWQr0DamnUJyFqFvsxeH3dZ4OvyQ1IhNW2t1PP7edHlBY0gEt2KPbtnwwPAQUjqc03My/uuBOPRH12KRDP1y1S66otPIzlbYb22MDA8Oa6eyhuZTner3waMtlqNDqY+8HUKdGMCe3H6Vketc77OQ5AQ6DoTi2Gr0XyP1ZqvB7Eij8Zm5Lyb98ntSzYQ9J3rBolSZdHl5Vu5WuX1H9KiYJNYAUAD+L7HTCtMlx4XW4xmddp2viRdzdVXSwTLTFqW+jpwjUynebDG4VUrYLOVXNPWRZ7OjveVWdOi0Bm57rLG01ajKjj71j25qWV94lsfBaYWg1ZJnm6xpFuRuo/90MvzAaOl1itpoZpK+lvLZ8vvbMlz86ZaPTwA2BfTKl3MpJW6iNK3rnwm99NWYJZu3Z8pMtWtPGONwfT0XCtN/d2gqLNx6XTyYH1K3j3DgzUOl1d2FffePNHougdHm67Aa5/qwgDUdA6pcwxzCRYA7IVhp8dJH2e90jDd0tQ0XigL5JqgJJ326z5A0Ag0Qez6r5fDdqiNmWJdLWyW7uuEhMOgAAAOQjyd9l2DTL4zTbCGQ4eALWZ6zhYDrP1pG1X4Dh3r1MsAAAxfPp2Wx/KzqWcX9uMGHB4UiQJAA5EeA0cXRaIAAAAjiIANAACg4QjYAAAAGo6ADQAAoOEI2AAAABqOgA0AAKDhCNgAAAAajoANAACg4QjYAAAAGo6ADQAAoOEI2AAAABqOgA0AAKDhCNgAAAAa7pVdxb03o8MDAADgYHXu3XXvrELAlp8BALD/SI+Boyt2/VMkCgAA0HAEbAAAAA1HwAYAANBwBGwAAAANR8AGAADQcARsAAAADUfABgAA0HAEbAAAAA1HwAYAANBwBGwAAAANR8AGAADQcARsAAAADUfABgAA0HAEbAAAAA1HwAYAh8aOdD47J6331Gv5sZtWxWNZ7vkdt+zP1mXbTalHL+cL6ey4j365fa1vP+y2XVlNfnD/bazs4fYdIL1d74XHcni2V79Qy16RR+4zCNgA4PDY2ZD7T0UmJ06JrP24JzfSgW2syrJax/1zWhbv3ZVv5sbc5/2mAtK76+79ITM9L517X0rroHbtEUPABgCHxPbDB/JEZuT85bMyKc/k/sMmRmwA6iBgA4BD4bH8fPuZyOybMjWmgrZZkSe/bcSLL3fW5YouAnWvK6tb7g8hV0zqX8sbbnogtxz9is3mmWKuts5teibLF/Uys8WEj5bDZcWK2oIi3wq/Z+WKRJNivPz2Bevitmt5o8s8SrzYzn3HzKvfX7I5imvX1Lw9ig8j+7NQlGvWP5ynWpGkXdc+v9fr+OaKRJP9UTi/ij+UPdbqO1WKV/PbPnDx/IjZDcz97yP3DgBwkPpOj//63nzn5l8lnz03/XJn203Y3v3l04/MtLmbf7tJv+5eDj8rGzfdPJ/+uvtST3DzpMtRzLI/3/0lmFRQmCf9/XBZ9ve+391wn3d3/969Gf6+VraNGfZ7ybLddzLLzu8Tv/2ZZbvfD/bJy87n2eUY+fnc9gXfi3K/mdmW/PZFtje+DlmxeYr7N6fK8c19tr+jlhscIz8tXWd/vIv7v7isdJ7S5YTnwyGitzWPHDYAOAQe/bEuMjEv70+7CdNvSkv91/kjzBVy9anUfJ8kdbrGpPXVVTOv9+inFVO0en3xtJsiMrV4QxYn3Aft3y01zyl590xQgWmQOk2ZdVK/99aM+ndTXiS5Nz9KR/3e4uUZOWYnmd+7Pqu2sd1/5fRWe16m3HuZnjPb9uTFf26CNbmgttnvT10Xrq3WaY/qBpp9Hh4/za2XP4bbW5vq3xl5O5jn2NyXap8H21Jgc14nF+Yy80x9MC+Tsi6/l+VQ1j6+2WN0bO5Dc24933I7zdVhzO5/exzL+dzjq8HxUOftZbUNT1fk64NsULKPCNgAYNTtrMsPayrAeGc6DWZUgPG2vglmAoz/5B91s8zOp70qbyTB2I680HGBLlq1E5wxOX7CvdVMQBgv2qzlxHhunbRn8s+/+v8defibumFPnJUwftDygV01p+SN193bLk6O537s9fE9qxs4tXhXOl+5QCcp+nPFqc6xM7pu4rosqb9Vb/WabXSRFEVe1EF5F7WP7wk53iWgiwWd2mvHT7l3ERt/qmBdBXlvpQ8Qxti0vBsJtA8rAjYAGHG2sYG6cd2+lNbvUa8lFcTpoCcJMHa25Ll9lxMGYzaoi8neVG0gYHJGTP0s97vDCN7KPF2RC8H2mZepEzckm1tBnahIUDc2Lifd26EL632pbdK5e517uVzNsRn5xk0Lj3Wv4C2sv7a0dkoWb6ng8JbOYetmuMfXB1UvX6jAO+LYePg0ENdpu3VIXtmA9rAjYAOAkZYWF3XUDTb7cjd33/igNOBwuWpGmNuWFbvZmpwh93t3FnR3IurmvldBW3Qb9WsvupbwuXuB0oB3UDvS+dYWid5x21TeDYkuwk63XQdUOngrDdpUIPi1KRLVAWD/+2rYx7csJ83mvHXjAk23LplXUHR/mBGwAcAoKysuMsbkzDvqBvl0RX42dZVsMFZsPRrmqrnctrU/c/XCwqAu7tjcxzZHKJNTNQxuOwrr5HOP9qaD1aTelRer15VXK6hz+z9fLOz61etmatHWPywtFjTrXCze9bmy/RjG8bU5acW6c2U5b4Yrni0WRedaAB9yBGwAMMJMY4NInSDP1nvyFdfjFbUfLV8zQZ9ng4B1WQpyUrZXv8sWP7l6VpluHnzHvYU6cgFXD6yQe9WDrbyu1insyiHJPcpWqB+WJ7e/S+v/6SJLXfw6q9bDxT6+TtkPyb50OWXuk+UC4K5BjsvVzASkxWXZ4DTX9UXXgF0x+zvX+MTtt67qHt9efEOKsKGI+i1bfF9W/+20vL9wyuQkhutjz9sZOX9gnSLvLwI2ABhV6sZrGht0C1hcn2xJ4wNdD+rWvEhQB2pJ5m3OSULXX1JBW1B36cJvZ2VRL8fTLQbbM9l6RRdXRBZudB9VwFUUN9/rqx8tvU43ZFGCemzq9062924Ug9bCWbmvK90H25YpftP7Uu2DtD7ZJfnnXK7emWIaRrj6d5kAKKGLOfX3bIOCdFm+DpkN5HSL0DsLYhsC+PlUENlS+yBtPZnjjvdkWA/t4pac18dX/TnbijhQ9/j2ZIt0r88G29oWua5b4HZhWsPm1mdpUxchd2she7i8ovv2cO/NDtDlwQCAg0V6fIB0bpoLBksDIQyVzj3UDwV3fEvZIy52/ZPDBgAA9ke0qNUVbQ9S1HoEDB6w6ScRtfMLB6CHaFl8QTjER0OZky/cDj10Sv5z/9uwlxVpCwrbMEL0+TeM4Un0PjjQ8yx/ntSoTDusfQEAe2V63rQ2zRe17mXR9mExcMBmW5qckkldJ+EuNwvfi3PKNcE+Is2O95vtkX1QKljSvb83SrazyyqGsy8A2P7OKA7dK3Z0hmzXHOzr3gYM2Fzv07Mfyiem6fgD2YMOoAEAAI60wQI2PybYW6ddk+vyITvyI/M/dNMzguJV/bqyuuX+kMouR716FQG5ZS5vuOJV/zJFT64Yyk/LLKukKDNW/u6YYkzT63Y4nEduOV3Xpwf328mrcvFX7rcqFX/m9o165esc1NuvTq9tSYppy/aT/Q3TFDzf+iq/7K7bq5fvess2ragixdnBsqoW+xfO076Lt+12h0Wi5ed+l30BADgczBDwTmx0+G7yo/3HR/+vNjK/n3a54yf476nXzb/NlOLy3Tzu71Hbv+5eLvkt/UpH/v9792bwW6XLdt9Nvmc+55cdfM4vJ1mfbr+9u/uy87maJ91W+zn8jlvup7/uvnRTovzvFZbdbZ3d+oTLzm937f1acVuSZRXPm/QccedEt/VU8vuyKHasy/dB+PsxhXWqdKzy62B/3/9WlXO/+LsYZfpcA3A0xa7/AXLYHsvvuf5/7CC8uR6MS0bmN0NcJHZsHaKJefkkqbOj637ZfmKs2IDE1euHTS58nA7HYXpNVjIj/7uBkofeQ3ecHiYk/O1F3QdNZpDmUDr0TPodte2RDjDzbL2mGbke7CPbW/UzWf42nkO3varWQw8DcjloXq2Ome4PKNPZodL/fu1vW7Lnje1wsdtAv7GBhW19if766rH7QO23sIm52wdPbq+W55bt2H6xWufCpulq+9Tn+lUGBjv3AQCjr3bA5m/qmSE63A07bHxQNjJ/dqBXOyxHsUlvOKadH5okX2xVTX5YjoNWWB/X+3e0SLmsJ2vXAWV5AGOD6uyNXvPD1WzJSzcl5eolTpyV/OgrNiDflBfBKva9X/valsjgyz34nsd1h4yDDFdihkmZGJfX3Gcvtg8yMpWVgyLVgQaoHuzcBwCMvpoBm7up+7pavk7Ne254kyAnoXR8MDdchlE69pob0sMxOSW6x+bM747iDSwSiJQOypzKNIM2L1f3qpewh2v3utBrWBJXFyrzvYGCjqza26J1ywU1AZMb8Droyb2/4K33mIndpHXN9DbNyHXdCqpHL969HJ5zHwBQR72ALSnmTJvkJi93U/E5RWUj8/sBaY3SYCVy43Q5GPb3dJGpvoGN2o0rMo5ezwGDT8nirWA/h68exWK6+DX6vW7FhLNXI/Pr15dpEWht9belGldc6JZpizEv9RG0ZR8U+rJhx8RLr40hDptyKM59AEAdtQK2roMN+6ItV8+nbGR+W1Tq2aLPJ79t5HJObFFpOVf3KxYA7ZHsetf3fCt3lzUBbK6I2TNFzbHi0mJLwixbf6y4X10uULSVqS9+CwchtobSmW/tbanPDmSt9kOXum955kEjUufMnvtlAxT786OYg2q/N0z7f+4DAA5OjYCtrF6U5274PkiLVVbfscNQpOKVzu1I/J6rD5QLMroGjwPxgUvQEKCw3hGuLlqvm+iT299llntFFzfOfliSe3Va3l84ZXKJwu4a7P6ZkfNdOled+sDu1wthtyE+FyhTMT5lu2hZl6VwX7tt7zrIdCX1tyXGBlZpXbzoCBpl9eYSLkctKGr13dRkGma4/dZtH9gHlFxA6r5XX7VzP78vAACHR98BW9KC8IPyoit7s0sbH0wt5kbmv/hA3l3I1enRxT235kWCekdLMm/qIlm6mOuGLEq2btXSmq4jNMRip4CuN3R9NqgzdHFLzpsi3y5cDqOpoxXNwbJaC2flfrLcFRFdbNmlONDUYWrPZOp+LW3Oy51e226K0a5KK6zH1t40RZJpK8083ct+bl8PceiQ2tsSkW9koJd9Z0GCel7qpYJhXURZvr2uMYGrt2cDycg+cPut6z5QDyh628L6c62743InV1WgP9XO/ViDC1ufbp+GOAMA7JlXdN8e7r25Cej6MdhDOjfNBT/dAggARxvpMXB0xa7/mq1EAQAAsF8I2ADgCBhKo6EDoov2wzqvUbr0oks1lL3n6pom9YXrNKTSy6DlN+II2Pab65qB4lAAqEAFYnr0kF7sqC5NouvB9lnv13WZBcQQsAEAADQcARsAHAK2yDNtRZwWzXWxsZL9Tq5IMSlGzc1niid1EWQwLVb0132d0iLE7HxBkaD+3Ys256y85b1djuk6J9PS26q1X5TC9/oeWSRSJJrf38Eyze+Z0WRczwQV1xNHiBkC3omNDg8A2H/9pMcbNz9S83+++8u2m7D79+5N9f25m3+7z7u7Lzufq3m+393IfP5o9+ZfbsLu9u4vn6rvfPrr7ks3xc8TTrO/pV/psnb/+j63rCrr5H5PTbvc8TP5acGyt3/dvZxbdoz5vWA9tdJ1yM2Xl99Xml1WdlqWW/dk++xvJdsW2UeF3zHzhOuLo0qfK3nksAHAKHN1vCYXPg463nYjYaxdK6ms/1h+1p2Az14N6tPGOzA3Q8ldTjvZNn0WKq120G+iGcEkGMGln3WamJdPknpeah3O6eVvyou+crMi3Dq02uFwem4d1Db+XNqIwe6bfAfZphPyyKg9VdlRULKdvJs+KfeoH1EcPgRsADDCth8+iA9rlw+iQmWjf/ihBTPDuJUPxVamr3U6MR4dcWVgbri//DBxXfeLkW0sYDufVi9XNFtXrGNroB8EbAAw8oIRWZJXOLRfXDjaiH1dGmIrxXrrZA0+Ru4g4z6H9deW1k6ZEU46vUa56cX0EHDDjN4TjoRC8IaqCNgAYOTpYcpUUBF5lXcr4QKRyHc6XYbJq67OOg2PHde3hh0/bvINt75hkeqg9DBz6X7Q42zr4I2gDVUQsAHACPNFbYW6Va4VZ7QOmykWjI1tW6ez16Ja6zRsr4+rdYhsoysOPjleEoWZotTi320x73BNLV41xbPZImggjoANAEbZ2Iycn9XFm2G3EzvS+XZFnkzMy/vRTrpPy/sLp0zuThg8PVrWRZZqeYPmgNVapxJj43JS/Vde58x67fgpkadb8tJ99uvw5PZ3wTqogFR3ndFtHUygp9b9j6BbDZfrNghbzJrrGiRfl9AFmYMWB+NwImADgBE3tXhX7ixIUGdMBWInrkrnq7R1Z55podieydRjW9qclztDarVYZ53iTsvbruiw29BasUr9xXW4Js91UWe3ddB1zXR9tbVr7jvqdXFLzt+zuWGZQK4Pen9n10W9VPDYagcj37hGH2Gfc7bRw2gOKYbhekX37eHemxNIl6sDAA4W6TFwdMWuf3LYAAAAGo6ADQAAoOEI2AAAABqOgA0AAKDhCNgAAAAajoANAACg4QjYAAAAGo6ADQAAoOEI2AAAABqOgA0AAKDhCNgAAAAajoANAACg4QjYAAAAGo6ADQAAoOEI2AAAABrulV3FvZfWe+fcOwAAAByUzr277p1VCNjyMwAA9h/pMXB0xa5/ikQBAAAajoANAACg4QjYAAAAGo6ADQAAoOEI2AAAABqOgA0AAKDhCNgAAAAajoANAACg4QjYAAAAGo6ADQAAoOEI2AAAABqOgA0AAKDhCNgAAAAajoANAACg4QjYAAAAGq5ewLazLlfeOydXVnfchKbYkc5nX0gnWS39+Zy0lh+7z1XV/d7Rtr36hbTeW5FH7vNwDevYjhB3nS1vuM9Ns7Gijrc6Bvr12bpsu8n92tvzZo/pfUA6AWAfHK4cto1VWX7q3g9kTFpf3ZXO4mn3GQduaMcWw6EC5rvrIrNXpXNPXStfzcgx95ejw+0DANgHFIkCqOE/+UcF0JPHX3WfAQB76ZVdxb03RRv6abknXVRzcUVk4YZ8MzfmJsbp4o4Lt5+5T4p+Ig9yruzfT8j1W+Pyg1rmEzd9MrLsR8vnZGnNfZAZud4WWWpvyuKtL+XMw9jvvCqdzy7J8omrcl2uBd89Zb7TKl11Xdxmv2fX9bEsv3dNnqt1Ov/iUnYd7s3LlPtk2Xk77lN2Hvs3WZiX57fdtib7w/1mkIvUat+VxWn3wSnsz8i2ZPeTMjEvd/I5ILoopx3kDhTmKa5P/tjl+WO5uLApy8E6htth55HCOifnQWF/Rra572Nbbd9mmP2jz60P5Z+LwfHM7IP8eeK4fet/I9k2c76m+9z8/XV7LUXPe3ednQzPFy16HPLnXW4/mHVS+z04Nl33QbfzI/83pduy4scvXf/ose/2+0rtfepUXqfSdKlsf/d/3ZSpnB4DOHSi178O2Ly5/33k3vWw/evuZTXv5c62mxC3cfMjtczPd39JZvt796b63tzNv93n3d2Xnc/N7859+uvuy9y0m3+5Cbvbu798qpf1/e6Gm7L71/f2e+HyzbTw9/z3sutq1ytYVoH7XrKebr0z6+SmBevt90u4fdnf8ssJ11GLLMttX/p7fr9k1zu/LcVty29Ll/2b/H7+s2bXsdsxT45l+Pv57YieO8V1LKh9bKvt2wI3T2xb0t8rWe/c8mPnuF3P+PLz+yozzW9P+JuR887+Zv7aUPNkjmlc6fkR2a/dzgfNbmd43Irrb38vXXbp7wfrXnufKtXXKbv80vVKvldcz6r7KUb/FoCjKXb9712R6M66/LCmn0g/DnI7Tstie0Zk7VquIrV6Or2cPj0fm/tQWur/51uuhrmrv9RqB0/g0/Nyfda970U9nX8SPGFPvaXWQTblRb9tJtSTcpqLcFreXzgl8nRLXropj35ST+I6JyB4mp5avKq2ZV1+D7d3Vm1f8MC/vfqjelLP7gO/fZ22r4z9WH6+/Uztz7lMDtTUB/MymSx/R15sqv9m3wzmydfHs8vJboua57JaztMV+do0JHHFXe9MBzlu6tipaL9XjqrNaSgeJ13Xx1RKH5uWdydEnvy2kVZS39mQ+/r4vtV/LkSvY1tt35bLnnNzsqjX/cV/bkI/sutg1zO//Dez572jc3XC885eQ2q73GzmvNM5ucF5d2zuY7Wuz2T522xjgNa5YD9E+fMs/E13fqjz7Id+Ghr1lQZ4Vc5Pr8Y+HWa6VDDIdQMA3e1ZwLb98IG6iZySd8/kEqroTemEHO+Snm1v6ShkRt5OEnDrteMqYKrixHjkJvVM/vnXva2oe30dFywVfssm2OnNJ7+cHXn4m7pBTZyV/K7KBh/ZhF8Xe5rWeUFxjb6xnXlH7RN142m9F7aoDGz8aYpxCsGRD6RMMHJa3lYBzZPbl9Ry+m29VzyWZjuePpCHZn3UzVcFDelnf64Uj28lXY9t1X1b5pS88bp7O7Du53g3J8dzXzTX0DO5b3bgY/ldFwdngnTNnQvBA0Wl7dnZkufqv8JvZs6PavpLA5xK56fX/z4dZrpUNMh1AwDd7XGjA/WEf9EFFskrrPfRnU+cX74I6poEjo2fcO8Okr/p26fr2p6uyIXMflKvXD0hXa/G/21pTedk3ZXOLZ3zkTo296WbFu77YvDWafu/+Ve23s3Uolq2znWQdVlK5qlwE5oYl9fc21KZgMMFVYWAY4gq7Nu+bG7V7sKifxWDRhOkZ7cxW9exon+3ggeAYaiXBvQ6PwcznHQppvZ1AwA97HHApivcqwQs8uqniKAsJ83mvB0SumJyZD917rmK4zvr8rUrqspMjxmbkW+S7+siWX2DCoM2F+wl8wSvsHL09Hw63QSB+ibU4+aTydEp43IidLHoIMWhVfXat41WLSc4PS/yr6B4sIrXxzMPAIOrkwZUPD9rG066VKrOdQMAPexZwHbszFmTUGXqbmm65Zt66ozXX4mzOWnFZZXlvB0MG4QUc190qzH1lF3auaYvxvyzkKDbHDWX0Lucj3xRlS3i6cbVz/E3/kzuVki3euvSGbIKAj/RdfZ6FiMW//7oj/VCsaQvJv35J7X+E/Pyfp3i0J4q7tshG/aDRKHo0BQb+mK9IPi1f02YYvN+O7QdG5eT6r/OH7nz1QXW/XTjUSsNqHt+VjTMdKmSytcNAHS3dzlsKqE6r24knXaud/pvbcX8vm7QrrJ3ppL4xorryiGoZ2JyB/qvmzYspgGALn4LgrPt1e9k+ekpWfygPGfAVmZWT+HhzTXJUXONDFzOR+ZG6uZJueAwd5M2AVNSR8w2ltD1bMKb06NlXSSkjpnJYbA3x2yQWV4fLOtZpqK7Doz0cWrlK7ubY/pMOmtqGzOVtEvUPLaV9m1tPiBMGwAUj8ngntz+LrP8K7o4N2i4Ejvv/PVR2O89ucY0mQr47rpNzo+KaqUBVc7PAQwzXVLH/7h+lkwe0ga5bgCgu4ECNlu5ViVQuZdPaHV9jjsLEtQXUYmw7rOq717RbUvH67NBvZC2yHWTcxRwFZNN/ZcBhsqpTd0MvtFFkEF9Itu/VK+iN92g4IYsSlDXSve/1Q6KaPSydfFKWFfp4pacN0WePpDT+ym3HPVaWgv7gtNBzJdqH83Y/eTn2ZyXO8k8en2y22GOneT7aouZkcV3HiS/b/tci/XR5YKdWAXwmNrHtsK+HYDel9dngzpR+pjk6hUOqrVwVu4ny7f9H3bCosHIeWf7kOvSz1oXxfPDXbf9Fq8qddKA3ufnYIaXLqllmZxie24tbwxy3QBAd6/ovj3ce5PA6HoXo8J0bvnbWRLDEWU6+NU3Yo4fUDBq6TGA4Yld/3vc6GBIdK/nauXDIpKkWKtKcRoayHZH0X+RHYCseFWIRtBpd6aKSM26o+YeUGztjm6GU++zEl1Vg+Oz50YjYJuelzsLpzJFJMMs1sJ+cvV83rNDfdUpsgMwClQgOazB8U3L21Fo1X0UqTQ90x8o9spoBGyKqdfim8q7Fzf7UaTr+djjR7ANACPM5HxW78MQgxmZgA0AMCifw+1f+WKstBgtGU3FvCLFmKYYLJ3nyurjoAsjvZxLtrNj0wgj9zuumkv63R5labki0aRotbAOxeXYeePzmL99ti6dZFuD9cytY7zIOb8/1SvTSljJLydadNjruCiVlhOzkV12Zjvc7+bXOTgPSun1aa/bPiDzDQCxN8yIog6DDQNAM1RPj2ODzkds/7p7WS2zOMh9ZCB89UoHuXfTwuW7QfXTQe3dOmSWnx8cPz6ofmyA/gIzT7qe1Qbnjwz07/aBX+9kOcE6asVlVRzYP7f82LbZZX+/u+E+VzouVZZTkB7LwnEKtsPuo9xycvu7p37nR0/6uOWRwwYAR8Cjn2xfeteDLmGOzX1s+kMM+040MoPvu775klFMXN20iXn5JKnW4Abod5+6yw6q33Vs2a6yyykMzr9jB/pvtYO6b2O2I+NsR9P5fjIfy8+6L8XMPnDb93RFvna5TturPxb7BnT9/Pnlx8bBttV70i5qqhyXKssppbYjrX6SbsfPvvstM65ytjPpWGfnOHgEbABw6NlW2cUxe11/iLkh5bqPaGHHTS600HejZPQWH1S/2xitcT0G5zejwxTH4jWBTqYrodxyzEgiKtDLD5fn+oL065kJmIKiWduhu+VH1tD9h8aLF6sdl97LKVc4lr5PS98Ju++YPumU3a4TPTA0DwEbABwVmU597etC5ZE53PBaO1vy3E7IeVXeUDf+g+YDqkGHiMv0SmBerk5eIqh3pltJujGLr8+6P2umU+sbJiAKO5ovBF29jkvV5UTkhzMsyg3hlxn6Dk1CwAYAR4SpIO5aaWdffYwiUZqTZnPeDodTZqSQ6L5yRZd+uLTruelFdqQe/30d0OmgKwy2qh2X3suJqVLUHI6xS3FocxGwAcChd1reDupWhUxr0L463bU5aYVllea8HQwbhETGH861OC0wdeqeyf2H+RnClpM78kJn4E2My2vmb54r4uxiatEOJ2hzAusfl+xyyhX+vrMh91VgnSnyTYpJV+jQvMEI2ADgCJj6wFY2vxB24aCCF13nqr8b9JiZX4+h6ivg6wDGDKCv3qV1pvKD4+8z1wAgO9C/Crra6yKzH3bphNc2stC5V+HoOj5HzTYycNv29IGEcZ2dJ2W7FMkFh7k6clWOS5XllFq7FmyH2n5dfDsxL+9n+jF1x3Rt3Wxj2LgBzUHABgCHgb7pu7pNmZcPBEw9qNzg9O1NU/TXdyfkeuSBW/MiSX2qS3L/naumjlUoOzi+m7iPigP92xFWyosvLdOgoD2Tqcdmxj0Oiij1sq/PPguWfU5+OH7DjMrjAzm9nOzvq5cKGFvtYJ9XOC6VllNickEdp2Q7VECp69rFxm92rXWLDSAG4BpjVKlrh95GevB3ADisRi891kWG11RwwCg0I0kHV27IR47fwYtd/+SwAQD6EB9s3hcZUpw2mrYfPogUlaJJ9j1gi5bFF7jm0oXhMuoY5rIA4KjTrRWvSitXBJsvMsRo8EN3Xbh9Qq7HikrRGOSwAQD6dFoWXfcSyYub/UiyHQDrY0iw3XQEbAAAAA03QMDmihrDV6TY0fQlk8yzIg/d9IxgWA/9urK65f6Q5bNuk1esmLPisgAAAEZFzYDNtgYyzaN9dviteZlcuxY037UVU5fWgp6g2yLL+WFQdCeGF1dEkmXdkHd/W8n0ZaPpwO/CbQl6n3bNoMOgreKyAAAARkmtgG179UfTGsh2IOi4TgqTHps3Vs24a612UC4+PW/7qEmooO6uHgZjXj5JluUqtLpPxs66/KAHo134OOjs8LQstnVHf75TwIrLAgAAGDG1AjZbSdEFYkERpO6Z2bMD7xabeB8b191De3bsucl3pnOVVbODCJvmxrHBaF1Hf3astGrLAgAAGDUDFIm6emJ6mAvdc/I9Oxit9/JFrujTe31cJt3b8rHn3LAfGdkepe0rGAakr2UBAACMjloBm+8gMambFhnm47XjYdFn4N8tM96cMTYuJ93bLDewbkbwe7nXN7oItK9lAQAAjI4aAZsLgCbG5TU7wXlsRvn3bNHnuvyeGz/OFpV6trgyqfeWsMWb3rEzZ2UysixfHGvrsFVbFgAAwKipEbC5IkY3uK1nc90C0/OmiLTTXpFHbpIOsL7OtBIdk9bleZl8uiJfB4PDFpblGjR02uEICTvS+XYlGEqj4rIAAABGTK0i0alFXV8tW6fsh+M3bAvQIJCz863Lkq9zdvGBvLswY//oqWDsm1vzIrcvJctaknlZzDUU0Mu6syDBb16S5RNXs71rV1yW7RsuCCQBAAAa7JVdxb03AY6uEwYAOFikx8DRFbv+a7YSBQAAwH4hYAMAAGg4AjYAAICGI2ADAABoOAI2AACAhiNgAwAAaDgCNgAAgIYjYAMAAGg4AjYAAICGI2ADAABoOAI2AACAhiNgAwAAaDgCNgAAgIYjYAMAAGg4AjYAAICGI2ADAABouFd2FfdeWu+dc+8AAABwUDr37rp3ViFgy88AANh/pMfA0RW7/ikSBQAAaDgCNgAAgIYjYAMAAGg4AjYAAICGI2ADAABoOAI2AACAhiNgAwAAaDgCNgAAgIYjYAMAAGg4AjYAAICGI2ADAABoOAI2AACAhiNgAwAAaDgCNgAAgIarEbA9luX3zkmrx+vK6o5sr36h3q/II/dNxNj9qffXUG2sqH3/hXSSxe5I57Pwcz3DPaZ6nSLnz/Jj9/eiR8t6nv63w673OVnecBP2lNuucDv08ch/rrEdte2sy5Whbf8enbOoxV4TPV6frcv2fp9zI2pv7lsV0oRBmeObO+7djrdLE+LrkKbN2TTD3f/1+eSmYP/UCNhOy+K9u9JJXlelpaZOLtwIpt2Vb+bG5Njcl+r9vEzZL2I/Tc+rff+ltMbc541VWX7q3g9gaMfUJBaX4uu0di2e0Kjv/LCm/p84K2f8dlV07MxZmVT/d9r78QAxJq2v1HWweNp9Vonf3XX3/jCwaYC+xnHwphbTdFe/rs+qiRPzcieY1vlqRo7l0wTso71NE0zQ3o4t75ksX4wHZY9+WpEn6v/WW36dUo+WS9Jmde2/rc+vpyvyNQ9s+44iURwA9ZR20SYWIjNyPbyx3Jo3gZVNaLLBlU9gJt+ZlmN2UnVj0/LuhH6zLr/vSy4bAOw9nSO4pB9klXzGiQneNfUQnMkR9w+/Kv19e9pMcWwOml9ezNRbM+b/J79tkMu2z/Y0YMtmLftilMfZYjCXtZrN1o/kguSzeytnybos3ORVXLYvLkteuacRs27q9x5l5nM5QLn1CrOPu36vqzQ7OrZcv775C9Bkb/v9EhR/mPnN01f6tGWXUVyX7DErKvzd/27wymahF22v/igd804Ha7ncurEZ+SYJ2lSikmzjY/ndJCKn5N0gey05b/Qxyx2LbJHdmJx555R5p59sqyc07vzJnBP++GT3U7pv3N/Nd/T33dNqLOfw39z+y517BclxzZ3Xvb7nbVX5vfw1kz9P7N+T/dvHOtl9FCx3w65P73Mm/J77bmad0FOQJmh10zWrexrVTf5YFovWe5x/Ls1Z3oidb7n1Cu8TXb/XQ25/ZJabrG82PfBpk90vvdIEt4zCutjpxX3kPZafbz8z73Swls/11rmvPmh7cns1Wb/thw/sA/Psm2n6a/bPNZs2T5xyaXDE9JumVE3nsv3c85j3Ok/s36+srqfHJLNvEdr3HLYnt6/JP+eC3BR10C+og/TDcf9kcEMWJ9ZlKTho5gJXAUer7Z8c1DyivtfrwPoTcPaq+54+edWygwtLX1QXboss3vLLviotfRHll63Wc+nFh24evY4u+Lk7nhQ93Fk4JZ12LnHR3/vtbDCPqO/l5slwF7MERRrtGfVKT3RdLKkvwie3v3PLUSf9tzr3SQVAuujDzJUyxZhqGTrYMdu5eNoVET6T+w8zKaE8/E1d/OFF3I3evxdXRMKnOrOu3bbP/YZW9jsqaDvvE5kX/9k3G3+6IO+EHI8V6ehjlisSeHJb7ccgcTg2fsK+ebolL+27ClwRwOZWej7sbMh9U1ywKS+S7Szbd7r4UJ8v6q05D8MiKXUOtbfkvN93+nrIPwlH6XPvT3k72OeFJ+gSndsrcjK5jty5Ht4kItdM73NW671OhWvt1lm53/Y5reX09X/h9olMTuz1Wf172RskaqiVrvVOo8oUz4F5EXWdJudJ6flXXHan/aO84ZfjzreWWq/k/qLPb31/yQVBnfY1kW7XQE7v+4+6xs1Dprq3+OWoAE/nUukgajGTg6XF0gSXzqz9mT2nTbqXfUjNSNLF8nmmPvAPwD69StPgyeOvmv9T7h5x+az7HPOqvGFKK0Seb3VLFMrPk3xa9USlS8kxidzDYO1/kag6QZMT2BdTTczLJ8mTgcsJSW6q7gki/J6uD3DZBnvdytFNEZquy5HUG9BPHLrOnSsWU4mDzhZutcObqLqY9MWvlp19elDBULIcn1ujTu7L6cnlg6B//nUTjGwQdWzuY5so/hRPIGzuU3a5uj6aDtDC+ld2O9RyvtVPyN+Zp7VWu4+6ZW7fZ7K1XSASq9MQ9e+WutnmEoo+6skUE4vUa8dtbpgPlLa3Nu3niXF5zb4rSBNUvW+szh/Bfn59PJdwVWOKAJ4+kCS21ds9MSMtdRyTgLfffedkjpk/Jj5I7SLzvek5k/hX+V72BuLO9TV1zrnNsMXO4bkenLPqXMs8xOR0XSd3rU0ufJyeGyow/0QFA93Z639yYS5zbtubEMXbg+s/XauaRhXE0lt3Dvh0KJZm2/NPLTuXM545l3yuT+Y+EXnYUnpdA1kV7z/+XFbBn8nB0w+Pmftab7aoMXtOP/pDL6dKnd2SB1ltbFxOmjf+GP4n/5gHTpGT48GXdOlGpbR7TI67Z99uaY49T3KZCO48CXP7DLWv3k/2L8rse8DW7SYd5Z4gCjfCnje3HXmh7/EnxtOTxdBPN3ftxecCjjdet39JuIs/8/TQJVDoqvA9d7Lnn6QM9+QTuUDtxRwGGmlguVRIUKpQic45/f00ELHZ5Pk6DV2Y/eSeyLs8oQ7Dyxf2ibB4PJ3MBe8S6rxCwlWR204fnJlE9MSb8rY6jsn5Z86lPvadETn3tNwNpqjkexVkEmgts22u2LmQS5h/iIrpsU6x4F5Jcj1L2evVF/X4YqZWUgcSA+k7XesnjcopSW9NCYC5qZel2fHzr3AuV1T4nnmQy5c2OH3cf5LAsq2LFXMBbRXuISd9yLTXY606u93sbMlz86Z+OpJ/oI4xaXbk/IqeJ2XpOjJGptGBzkYNy8F11ne8FYuXPkWUSXJt9lLkRExO9jI6Gz+zreqVK+4z3AVunog/yCUoVWRu1mVFet3Ym6mpI2GKI9y6Vgzeuj2d9QzQ8vb0grcBoF1fe1PRCbhJeFzgbYK4vvbdHhhWoBceS/e64OrJ9C2fQ5qX5HqWC+s8La2pc10X2ST1HHEgqqZRgd7pbe80e3CRayB5kCtX7f7jHoK12Q8rlTJkucDUP8z3Kg7N6BIoDyFA658LvjFUIxKwuUTaFHflXkHWeb96P90PQeQmmgQjZWbT+hvZVza7etsVhZr6Qz2Kq+JcIKKLI2oW6WlhtwK6vou54ZcGbb7YRYnmMiqu6ETrO0d2j5ggW6+v2U8u4TPBhk4o7ZNwnX23v6rlLOZbmqWvPorcc0qvNZPr0oU6F742RaJ+naoVt2OPVUyj+pPWjdo7kWsgCWjKVL3/uKJQzRSN2rf9sMXPtli0UnGoKw3S2xXNIVR863r1VFtebDp0abEphqf5AVuuOCqlKzR2az0Tr7+gI/+ktU5ZVrjLBq+b5Z5RKEZyTx7R3JjcE1bA5jIE9UPcjcwknK7xRp1+cUwu0dMH8vNPD0zdkUHrEfhigW65Pcfm1NOneacbgOQqs6vt0g0ZbAIzI+ddUViVLPieBnjStAnppvxu9pNLRE2xiDp/vrV1NforDj0YhUrCmaf4IIC3f02YoshBWm+VXGs9c11cQJe/FpNWbthnfaRROfE6vkrSerWsuogvhq1ZLSWncA2UFNcbfdx/Hi27olAV3PWsz1fGFbV2/lixD4HnehWrnpb3XT1Q3cgq/6Csr9u0yw9XD7Ru1ZBAlRIQk2aHdX8dE4jua/B4eIxADps9IfMt/uzFkd7QY0zFZJ11H5zENlfKFSG61ohpa0strTA6nEqQQcshxXZI6H4/wgYz2VayaS6Dr3gdtArVT3i+4m5mO3LcDbNwgZpi1WfSWVPL77euhGvqnnmSdDl13Zd1WiVqvkjL1YHzRQ1JsKYTvjRHp14Lz5wkN6dGYuGCM72f0kTK3mCePNWBc7fiUHcjGiTYHJLMOaKDY32uB8U3sWvGt3jrffPoInat+YeObgG0KzJN6/UoyfdwEKqlURHuHCi0OA3OQd+YJEwzfUnCQOdfoNc1kFXx/pO0Cv3Ybodr3BZuR1ZZmuCKVdfWKz8E+l4DjFx1hqQ/NfVgn3b5UbWVZ5m0uLNbCYg9T1T6Hpb+JPupy3mCUiNRJOq7pQjrESxt6qbCPYpoTKsX12zbfc92D5Bm2+viPN9s3M5zTZ7r4pdhNS1Wgd+ipL+/tKaCrK7FBrpemGs27r6jgxjdFUNa8VolHjoBC1rlJS35yrpf8E9ueh9mckp8EWXVuhIB3SI0d1z0uupuPnr2gm+OTdpHUIYpbsntoyTrv0tdjR6S3JwwuNIJtlrv8pxaLy3KDYs+bQXa7LQYm5Npj2mdopJhaS2clfv+XHfHqhMW60SumVZ70+Qa9NeopahwrV18IO+qc7hrXTS9Pjq4D9fnou4KxbYEzgRy2Ce906gypemtPwdL0+zBzz+v5zWQ0/P+44M+ldanrULVPjKtT9V2lARtpWmCT+v6qBNrqqVE63W64tzM9qVpWbd6xOV8XcNe94zIeeLSkp73B8TtBub+95F7h2HYuPnR7tynv+6+dJ+baqTWU52jlzvbbkp//Pdv/uUmeH99X3uZGJDa93P/+353w31EivR4yLZ/3b0cu/6bZj/W0/1GrWvPf3cE7hmjLHb9j0wrUewVV2F+SMUNe8l3AFlvSBQ/UkKxmEHXqRhKfUWUi+Zk+uKwA25dCzSIqZ85tCo5JcZs8XSdofp8/dGhdzeCngjYjixbadYXSQyruGFP+UQmUpG1Fz8cVrHuhArkNum0cc/poq72jKkL5IuVCsVhwBHmu68xRcD70Nu/fwDur1qBHworqL+HffOKzmZz783JopsqAwAOFukxcHTFrn9y2AAAABqOgA0AAKDhCNgAAAAajoANAACg4QjYAAAAGo6ADQAAoOEI2AAAABqOgA0AAKDhCNgAAAAajoANAACg4QjYAAAAGm5kAzY7UO6KPHKfm8YP5Gtey7HBde3g61dW3SjmGytq3i+k08+g5vo70WX3qc5vN8XOulz5bF223UcADTCstClqRzqfjWh6BQyAHLY98Vh+vv1MJhdumMFbO4un3fQupufVvF9Ka8x97kklWnfX3fuj69FPK/LEvQfQBHucNm2syvJT9x44QgjY9sLOljxX/50crxx9AQAAlHplV3HvTfGdzhHqSWd3tzdl8daH8s/Fa9Jxk2X2apCbpIv8rsnzhRvyzVwauOiiwgu3RX3X5iY9Wj4nS5vzcv2dB7J0+5mb65T9+7/6d9IntVb7rixO2/d2OSdkcWFTlpPvZedJmPUNnvgm5uXOVzNyzH00y/rtrCyeWJHlNT3F/X5JvGV/O/3NcLsLfytdVm7/JPvUz6uz/S9lnyST37HfTfZ7j/XtOX/ht7Ue39FFkRdX5GT7qkg7fw68ml333P42ehyT3udYcf/4Y2/OKXMcndjvAw1XOT128mmPzuEP097e6UaaJp1/cSm4hmbk+r15mXKf6qdN+b8pQdqZLPfEVblz/MdgW9JldEt7gcMkev3rgM2b+99H7l0Pf31v5p373/e7G26Sn3a5s+0m/L17M/PZetn5XM33+e4vbvLGTb0c9br5t52wu737y6du2qe/7r50U/Pfs5/j63DzL/dZ8fOl09zyC8sO16GcXd90Pfx2hsvb3f5193JuPYpy+8esu19ucR2L+9PN02ud3bqE8+X3Zfa3lSrf8fMUlqOnhdvu9k9hWd2PSbqsbueYOx7B9+zxCb5TdT8BDaPP9aoK6ZK7PpNrpfSajlyrsWnJNVY3bcrPo+TX0X8vOi2fDgTbChxCset/oCLRVjt46pqek8UJkScv/nMT+qGe4JKnpDE5884p9b96qrqc5oocO3NWJuWZ/POvm2DoJ69wHebl+qyY+hO2ErqtS6afwtJctzFpXZ6Xyacr8rWv8G+oZX3Q40ltZ11+UE+drXb4VHpaFtszImp5P2+4SQP7T/5RT6+T70wHuULqd1S0nX1i7s3W8Qr3r9qXcx+rY/VMlr+NV9bv5zuTCx+n+2L6TWnp/zP7+7S8rY6JbG7VOCb9nmM78mJT/Tf7ZpAboJb9VcV6hMAoiqVLYzPyycIpefLbhrnuzDWtc5oL13SYXjq56/d9tRx5uiUvzed6adP26o/SUWnK+XAetY7nVdrg1zGh1vOTZD51/Z5T6atsygsaGeCIGyBgOyVvvO7eDmpiXF5zb/tzQo7n0oipt3Tw9EAe6ot740+T/d56K3ezHpuWdws3/uKyCv7dUoFMZLtdoPJ8a1gpig1ynty+JIO1hH0sv+tijUwAo7mgOEmEQ/19p+96en0dk37PMbeOa9dGt9Ur0K+SdOnY3JfSMVUB3IPMifFctYD4NT15/FX3LqZe2mTWxRer6uoUuvW8emWqLniF9QSgDb/RQZKTsg8qBnqdtuteI3nl6l9UtL2lU739MbV4V623frJcl6VkvWsGbyaACbf/XK6eXUSd7/RhoGPS5RwzN4Zb8yY3dvmiXzbBGw6v3umSzRUbTJrDVS9t0vXX3LwXV+SJrnt2764pEakmX7oCHD2j3Uo0mkOUp4tNVQKjEofCq89ismPjJ9y7fWK6+nDraoIQnUD2H7Ql3YsUXmFF4qw636lueMckamxGvkmWeVVaJngjaMNR9aq8MeHeDkufadOjZd3YQDdecN+higLQt30P2F6+GF4uTaxew6M/1kUmzsoZXVJniiqfyX1TPhqyT3tJp7VVvT5ucm4Ky3PFfHvajYerk9JfXQ5XfJGvI6LolpStaIezdb7Th2Efk55cHUOe0HFIxev3KrqltcldHpPj+llz7c9cQLUjD39T6XHtKilOz7TJFckWfsdVvwBQyR4GbL6uw2qaSKgEJFpnobZsJXjd5FsvX1dStXUgbIVZXd9iOWgQ4J/2MhVgq/CVZG9/F+TWqEBDd08xMS/vJxV1B+WKDzI9hfvE1QWj4hLhHkXQUx/YyvwXwmW545Dup6w636luuMfkteNhHRzdLUAxqDRBvFr220M7PkCDuHSp0w5zkV26NPuhaYhgrmmdCxZc09ur35lqCP1d03XSJvfZ1y127DVfg3tw5gEMR82e5rBNLd6QxYmgnsPdcbljcjuGZUYW33kgF9zybf9u2X7YTJ0m9ZthnSnd79udmkV7uv7GnQUJ6kfZfots5d5h0a2urkorU49MBTiS7U/MNrBQgZX6exj8ZJjiwdyyTP9mkf7qvDrf6cMwj4nNXbDn2JVVdfP5Sp1zYvdJsuy1bD9SOrCnXhsOk9J0yRc9Rq5p3Y+lLqLs75qulzbp9bs+qx6wk/U7Jz8cv6HWWT9wZQO5nlwDJZN+uIczrmkcBa/ovj3ce3MR6foFAICDRXoMHF2x63+0Gx0AAAAcAQRsAAAADUfABgAA0HAEbAAAAA1HwAYAANBwBGwAAAANR8AGAADQcARsAAAADUfABgAA0HAEbAAAAA1HwAYAANBwBGwAAAANR8AGAADQcARsAAAADUfABgAA0HAEbAAAAA33yq7i3kvrvXPuHQAAAA5K595d987KBGwAAABoHopEAQAAGk3k/wHqpkEDguLD2AAAAABJRU5ErkJggg==)"
      ],
      "metadata": {
        "id": "NwNwAvFE-dtX"
      }
    },
    {
      "cell_type": "markdown",
      "source": [
        "**Q2. Write a Python program to append a list to the second list**"
      ],
      "metadata": {
        "id": "_YRrOJDr-kwe"
      }
    },
    {
      "cell_type": "code",
      "source": [
        "list1=[1,2,3,4]\n",
        "list2=['Red','Green','Black']\n",
        "final_list=list1+list2\n",
        "print(final_list)"
      ],
      "metadata": {
        "colab": {
          "base_uri": "https://localhost:8080/"
        },
        "id": "AK5tXSco-yGB",
        "outputId": "f5aa16b0-eb5b-4ee7-c903-25dbac778bcb"
      },
      "execution_count": 1,
      "outputs": [
        {
          "output_type": "stream",
          "name": "stdout",
          "text": [
            "[1, 2, 3, 4, 'Red', 'Green', 'Black']\n"
          ]
        }
      ]
    },
    {
      "cell_type": "markdown",
      "source": [
        "**Q3. Write a Python program to find the third-largest number in a list**"
      ],
      "metadata": {
        "id": "oq2I36rTCiVT"
      }
    },
    {
      "cell_type": "code",
      "source": [
        "list=[12,11,34,123,56,89,90]\n",
        "sorted_list=sorted(list)\n",
        "print(sorted_list)\n",
        "print(\"Third-Largest Number:\",sorted_list[-3])\n"
      ],
      "metadata": {
        "colab": {
          "base_uri": "https://localhost:8080/"
        },
        "id": "2wMCbOP8Crrx",
        "outputId": "cb6fc0ef-c743-407d-e50c-12ed90795b95"
      },
      "execution_count": 7,
      "outputs": [
        {
          "output_type": "stream",
          "name": "stdout",
          "text": [
            "[11, 12, 34, 56, 89, 90, 123]\n",
            "Third-Largest Number: 89\n"
          ]
        }
      ]
    },
    {
      "cell_type": "markdown",
      "source": [
        "**Q4. Write a Python program to get the frequency of the elements in a list.**"
      ],
      "metadata": {
        "id": "n1M9rER4VaVG"
      }
    },
    {
      "cell_type": "code",
      "source": [
        "import collections\n",
        "list1=[10,10,10,20,20,20,30,30,40,40,40]\n",
        "print(\"Original list: \",list1)\n",
        "ctr = collections.Counter(list1)\n",
        "print(\"Frequency Of The Elements in the list\",ctr)"
      ],
      "metadata": {
        "colab": {
          "base_uri": "https://localhost:8080/"
        },
        "id": "Zy6hiEvQVdMO",
        "outputId": "74eceef1-3444-416c-fc09-b3b069ef2fd8"
      },
      "execution_count": 11,
      "outputs": [
        {
          "output_type": "stream",
          "name": "stdout",
          "text": [
            "Original list:  [10, 10, 10, 20, 20, 20, 30, 30, 40, 40, 40]\n",
            "Frequency Of The Elements in the list Counter({10: 3, 20: 3, 40: 3, 30: 2})\n"
          ]
        }
      ]
    },
    {
      "cell_type": "markdown",
      "source": [
        "**Q5.Write a Python program to check whether a list contains a sublist**"
      ],
      "metadata": {
        "id": "5CFf3Hv2cotj"
      }
    },
    {
      "cell_type": "code",
      "source": [
        "list=['a','b',[1,2,3,4,'Pyhon']]\n",
        "for i in list:\n",
        "  if len(i) > 1:\n",
        "    print(\"Sublist presnt in the list\")\n",
        "    break\n",
        "else:\n",
        "  print(\"Sublist is not presnt in  list\")"
      ],
      "metadata": {
        "colab": {
          "base_uri": "https://localhost:8080/"
        },
        "id": "oVHpjnVvcwAp",
        "outputId": "3bd995d9-e37e-456a-eabf-ecb1b92bb9d4"
      },
      "execution_count": 20,
      "outputs": [
        {
          "output_type": "stream",
          "name": "stdout",
          "text": [
            "Sublist presnt in the list\n"
          ]
        }
      ]
    },
    {
      "cell_type": "markdown",
      "source": [
        "**Q6.Write a Python program to generate all sublists of a list**"
      ],
      "metadata": {
        "id": "H3tv93S0o5OS"
      }
    },
    {
      "cell_type": "code",
      "source": [
        "list=[[2,4],['python',2,4,5],'s',[4,3,2]]\n",
        "counter = 0\n",
        "for i in list:\n",
        "    if len(i)>1:\n",
        "        counter+=1\n",
        "        print(f\"{counter} sublist of list:\",i)\n",
        "        print()\n",
        "    else:continue"
      ],
      "metadata": {
        "colab": {
          "base_uri": "https://localhost:8080/"
        },
        "id": "rqRlK6KtL8WW",
        "outputId": "ba91c2c7-271d-40ea-83c0-c4a68118196b"
      },
      "execution_count": 32,
      "outputs": [
        {
          "output_type": "stream",
          "name": "stdout",
          "text": [
            "1 sublist of list: [2, 4]\n",
            "\n",
            "2 sublist of list: ['python', 2, 4, 5]\n",
            "\n",
            "3 sublist of list: [4, 3, 2]\n",
            "\n"
          ]
        }
      ]
    },
    {
      "cell_type": "markdown",
      "source": [
        "**Q7.Write a Python program to find common items from two lists**"
      ],
      "metadata": {
        "id": "pcMoV8_EMRAg"
      }
    },
    {
      "cell_type": "code",
      "source": [
        "color1 = [\"Red\", \"Green\", \"Orange\", \"White\"]\n",
        "color2 = [\"Black\", \"Green\", \"White\", \"Pink\"]\n",
        "print(set(color1) & set(color2))\n"
      ],
      "metadata": {
        "colab": {
          "base_uri": "https://localhost:8080/"
        },
        "id": "EvXBljwPMY8z",
        "outputId": "2c75cc48-6fb4-4f6b-fcc6-630446021776"
      },
      "execution_count": 34,
      "outputs": [
        {
          "output_type": "stream",
          "name": "stdout",
          "text": [
            "{'Green', 'White'}\n"
          ]
        }
      ]
    },
    {
      "cell_type": "markdown",
      "source": [
        "**Q8.How to flatten a list in python?**"
      ],
      "metadata": {
        "id": "mYlJXB08NAs8"
      }
    },
    {
      "cell_type": "code",
      "source": [
        "list=[[1,2,3],[4,5,6],[7,8,9]]\n",
        "flatten_list = []\n",
        "for i in list:\n",
        "  for j in i:\n",
        "      flatten_list.append(j)\n",
        "print(\"Flatten a list is \",flatten_list)"
      ],
      "metadata": {
        "colab": {
          "base_uri": "https://localhost:8080/"
        },
        "id": "KrjaHuXRN4ws",
        "outputId": "b62edae3-560b-4348-d3be-0cdae7b29aa0"
      },
      "execution_count": 36,
      "outputs": [
        {
          "output_type": "stream",
          "name": "stdout",
          "text": [
            "Flatten a list is  [1, 2, 3, 4, 5, 6, 7, 8, 9]\n"
          ]
        }
      ]
    },
    {
      "cell_type": "markdown",
      "source": [
        "**Q9.How to sort a list in ascending and descending order without using the sort  function?**"
      ],
      "metadata": {
        "id": "Ldki7tEWOgpU"
      }
    },
    {
      "cell_type": "code",
      "source": [],
      "metadata": {
        "id": "b65pLCdHOvrs"
      },
      "execution_count": 37,
      "outputs": []
    }
  ]
}