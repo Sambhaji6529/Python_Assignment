{
  "nbformat": 4,
  "nbformat_minor": 0,
  "metadata": {
    "colab": {
      "provenance": [],
      "authorship_tag": "ABX9TyM7Vwm6XoMjYG/a9+0+Jfoj",
      "include_colab_link": true
    },
    "kernelspec": {
      "name": "python3",
      "display_name": "Python 3"
    },
    "language_info": {
      "name": "python"
    }
  },
  "cells": [
    {
      "cell_type": "markdown",
      "metadata": {
        "id": "view-in-github",
        "colab_type": "text"
      },
      "source": [
        "<a href=\"https://colab.research.google.com/github/Sambhaji6529/Python_Assignment/blob/main/Assignment_Tuples%2C_Sets_and_Dictionaries.ipynb\" target=\"_parent\"><img src=\"https://colab.research.google.com/assets/colab-badge.svg\" alt=\"Open In Colab\"/></a>"
      ]
    },
    {
      "cell_type": "markdown",
      "source": [
        "# Problem 1\n",
        "Another measure of average\n",
        "\n",
        "\n",
        "*  Mode is defined as the value that appears most often in a set of data values. Mode corresponds to the most frequent value.\n",
        "\n",
        "*   You are given a list of numbers and you need to calculate the mode of this list\n",
        "\n",
        "\n"
      ],
      "metadata": {
        "id": "2IB8wYvD2CaL"
      }
    },
    {
      "cell_type": "code",
      "execution_count": 2,
      "metadata": {
        "id": "waI_erJr1_WO"
      },
      "outputs": [],
      "source": [
        "# A list containing average daily temperature over 10 days\n",
        "temperatures = [34, 40, 29, 33, 42, 40, 39, 34, 34,33 ]"
      ]
    },
    {
      "cell_type": "code",
      "source": [
        "# Step 1 : Find the unique set of values. Store this in a list\n",
        "unique_temperatures = set(temperatures)\n",
        "ut = list(unique_temperatures)  "
      ],
      "metadata": {
        "id": "LGZhP0oZ2Wnb"
      },
      "execution_count": 3,
      "outputs": []
    },
    {
      "cell_type": "code",
      "source": [
        "# Print the unique temperature list\n",
        "ut"
      ],
      "metadata": {
        "colab": {
          "base_uri": "https://localhost:8080/"
        },
        "id": "OOJK4ChY2YUD",
        "outputId": "9d06f0a0-713c-4a24-f749-e63b86ae3787"
      },
      "execution_count": 4,
      "outputs": [
        {
          "output_type": "execute_result",
          "data": {
            "text/plain": [
              "[33, 34, 39, 40, 42, 29]"
            ]
          },
          "metadata": {},
          "execution_count": 4
        }
      ]
    },
    {
      "cell_type": "code",
      "source": [
        "# Step 2 : Create an empty dictionary which will contain the unique temperatures as keys and their counts in the original temperatures list as values\n",
        "temp_dict = {}\n",
        "\n",
        "# Set the values for each key separately\n",
        "# First key\n",
        "temp_dict = {ut[0]:temperatures.count(ut[0])}\n",
        "\n",
        "\n",
        "# Second key\n",
        "\n",
        "temp_dict.update({ut[1]:temperatures.count(ut[1])})\n",
        "\n",
        "# Third key\n",
        "temp_dict.update({ut[2]:temperatures.count(ut[2])})\n",
        "\n",
        "\n",
        "# Fourth key\n",
        "temp_dict.update({ut[3]:temperatures.count(ut[3])})\n",
        "\n",
        "\n",
        "# Fifth key\n",
        "temp_dict.update({ut[4]:temperatures.count(ut[4])})\n",
        "\n",
        "# Sixth key\n",
        "temp_dict.update({ut[5]:temperatures.count(ut[5])})\n",
        "\n",
        "temp_dict"
      ],
      "metadata": {
        "colab": {
          "base_uri": "https://localhost:8080/"
        },
        "id": "lMQ3ahuG2aDi",
        "outputId": "b2a394c7-ef22-45d9-e916-3a86d060ce5c"
      },
      "execution_count": 7,
      "outputs": [
        {
          "output_type": "execute_result",
          "data": {
            "text/plain": [
              "{33: 2, 34: 3, 39: 1, 40: 2, 42: 1, 29: 1}"
            ]
          },
          "metadata": {},
          "execution_count": 7
        }
      ]
    },
    {
      "cell_type": "code",
      "source": [
        "# Step 3: Store the dictionary values in a list\n",
        "temp_dict_frequencies = list(temp_dict.values())\n",
        "\n",
        "# Print the list of dictionary values\n",
        "print(temp_dict_frequencies)\n",
        "# Find the index of the most frequent temperature value\n",
        "max_count = max(temp_dict_frequencies)\n",
        "most_frequent_temp_index = temp_dict_frequencies.index(max_count)\n",
        "\n",
        "# Print the index\n",
        "print(most_frequent_temp_index)"
      ],
      "metadata": {
        "colab": {
          "base_uri": "https://localhost:8080/"
        },
        "id": "McaQDwtJ2caV",
        "outputId": "83bf6f86-e185-4e76-d52a-2a7def2021bb"
      },
      "execution_count": 8,
      "outputs": [
        {
          "output_type": "stream",
          "name": "stdout",
          "text": [
            "[2, 3, 1, 2, 1, 1]\n",
            "1\n"
          ]
        }
      ]
    },
    {
      "cell_type": "code",
      "source": [
        "# Step 4 : Create the list of dictionary keys\n",
        "temp_dict_keys = list(temp_dict.keys())\n",
        "\n",
        "# Print the list of dictionary keys\n",
        "print(temp_dict_keys)\n",
        "\n",
        "# Calculate the mode temperature\n",
        "mode_temp = temp_dict_keys[most_frequent_temp_index]\n",
        "print(mode_temp)"
      ],
      "metadata": {
        "colab": {
          "base_uri": "https://localhost:8080/"
        },
        "id": "IdUOR8Sy2eSu",
        "outputId": "69d896ed-677d-4bde-aec2-04e57470bb2b"
      },
      "execution_count": 12,
      "outputs": [
        {
          "output_type": "stream",
          "name": "stdout",
          "text": [
            "[33, 34, 39, 40, 42, 29]\n",
            "34\n"
          ]
        }
      ]
    },
    {
      "cell_type": "markdown",
      "source": [
        "# Problem 2\n",
        "**Challenging the immutability of tuples**\n",
        "\n",
        "You are given a list of tuples. You need to replace the last element of the last tuple"
      ],
      "metadata": {
        "id": "SniVisfgXBWD"
      }
    },
    {
      "cell_type": "code",
      "source": [
        "# Input list of tuples\n",
        "\n",
        "list_of_tuples = [(10,20,30),(30,40,50),(50,60,70)]\n",
        "\n",
        "\n",
        "# Expected output : Replace the last element 70 with 100\n",
        "# output_list = [(10,20,30),(30,40,50),(50,60,100)]"
      ],
      "metadata": {
        "id": "ppCDwEICXK2l"
      },
      "execution_count": 10,
      "outputs": []
    },
    {
      "cell_type": "code",
      "source": [
        "# Your code here \n",
        "\n",
        "lt = list_of_tuples[:-1] + [list_of_tuples[2][:-1]+(100,)]\n",
        "\n",
        "\n",
        "\n",
        "# Print the output list\n",
        "print(lt)"
      ],
      "metadata": {
        "colab": {
          "base_uri": "https://localhost:8080/"
        },
        "id": "P7Cva000XNe8",
        "outputId": "5391a5e6-ef4f-4e72-9925-6f9cb939ed57"
      },
      "execution_count": 13,
      "outputs": [
        {
          "output_type": "stream",
          "name": "stdout",
          "text": [
            "[(10, 20, 30), (30, 40, 50), (50, 60, 100)]\n"
          ]
        }
      ]
    },
    {
      "cell_type": "markdown",
      "source": [
        "# Problem 3\n",
        "Natural Language Processing or NLP is one of the most promising fields in Machine Learning. Most of the times in NLP we deal with the textual data (a bunch of strings). Sometimes when we are processing the text, it is a common practice to get rid of some set of stop words from our original text. By default stop words are very common words used in English language such as and, or, punctuations etc.\n",
        "\n",
        "In this exercise, you are provided with a default set of stop words and you need to add some extra set of custom words."
      ],
      "metadata": {
        "id": "gwIsXXmrZVyE"
      }
    },
    {
      "cell_type": "code",
      "source": [
        "# A sample sentence \n",
        "\n",
        "sentence = 'Hello, good morning folks! Today we will announce the half yearly performance results of the company. Due to the ongoing COVID-19 pandemic, our profits have declined by 60% as compared to the last half yearly results'\n",
        "\n",
        "# Print your sentence\n",
        "print(sentence)"
      ],
      "metadata": {
        "colab": {
          "base_uri": "https://localhost:8080/"
        },
        "id": "haI9VifTZcUM",
        "outputId": "e78a6544-1a1c-4ea5-9bdf-056ed13b29b9"
      },
      "execution_count": 14,
      "outputs": [
        {
          "output_type": "stream",
          "name": "stdout",
          "text": [
            "Hello, good morning folks! Today we will announce the half yearly performance results of the company. Due to the ongoing COVID-19 pandemic, our profits have declined by 60% as compared to the last half yearly results\n"
          ]
        }
      ]
    },
    {
      "cell_type": "code",
      "source": [
        "# Default set of stop words \n",
        "stop_words = {\"i\", \"me\", \"my\", \"myself\", \"we\", \"our\", \"ours\", \"ourselves\", \"you\", \"your\", \"yours\", \"yourself\", \n",
        "              \"yourselves\", \"he\", \"him\", \"his\", \"himself\", \"she\", \"her\", \"hers\", \"herself\", \"it\", \"its\", \"itself\",\n",
        "              \"they\", \"them\", \"their\", \"theirs\", \"themselves\", \"what\", \"which\", \"who\", \"whom\", \"this\", \"that\",\n",
        "              \"these\", \"those\", \"am\", \"is\", \"are\", \"was\", \"were\", \"be\", \"been\", \"being\", \"have\", \"has\", \"had\",\n",
        "              \"having\", \"do\", \"does\", \"did\", \"doing\", \"a\", \"an\", \"the\", \"and\", \"but\", \"if\", \"or\", \"because\",\n",
        "              \"as\", \"until\", \"while\", \"of\", \"at\", \"by\", \"for\", \"with\", \"about\", \"against\", \"between\", \"into\",\n",
        "              \"through\", \"during\", \"before\", \"after\", \"above\", \"below\", \"to\", \"from\", \"up\", \"down\", \"in\", \"out\", \n",
        "              \"on\", \"off\", \"over\", \"under\", \"again\", \"further\", \"then\", \"once\", \"here\", \"there\", \"when\", \"where\",\n",
        "              \"why\", \"how\", \"all\", \"any\", \"both\", \"each\", \"few\", \"more\", \"most\", \"other\", \"some\", \"such\", \"no\",\n",
        "              \"nor\", \"not\", \"only\", \"own\", \"same\", \"so\", \"than\", \"too\", \"very\", \"s\", \"t\", \"can\", \"will\", \"just\",\n",
        "              \"don\", \"should\", \"now\"}"
      ],
      "metadata": {
        "id": "sO33UgDPZb_p"
      },
      "execution_count": 15,
      "outputs": []
    },
    {
      "cell_type": "code",
      "source": [
        "# Update the set of stop words by adding the custom stop words\n",
        "custom_stop_words = [\"hello\",\"good\",\"morning\",\"half\",\"yearly\"]\n",
        "\n",
        "# Your code here\n",
        "stop_words.update(custom_stop_words)\n",
        "\n",
        "# Print the updated stop words\n",
        "print(stop_words)"
      ],
      "metadata": {
        "colab": {
          "base_uri": "https://localhost:8080/"
        },
        "id": "iGvneSy6aEwv",
        "outputId": "7410363c-e67d-40f2-b75d-85a57e527588"
      },
      "execution_count": 17,
      "outputs": [
        {
          "output_type": "stream",
          "name": "stdout",
          "text": [
            "{'she', 'here', 'because', 'above', 'good', 'where', 'her', 'had', 'during', 'own', 'for', 'over', 'him', 'than', 'while', 'ourselves', 'at', 'me', 'most', 'or', 'some', 'they', 'our', 'himself', 'a', 'nor', 'having', 's', 'them', 'as', 'other', 'are', 'am', 'hello', 'he', 'should', 'about', 'both', 'which', 'half', 'whom', 'before', 'and', 'under', 'my', 'no', 'herself', 'being', 'ours', 'between', 'on', 'an', 'until', 'have', 'by', 'been', 'myself', 'i', 'below', 'theirs', 'that', 'were', 'is', 'don', 'to', 'there', 'all', 'very', 'from', 'same', 't', 'yearly', 'doing', 'more', 'then', 'off', 'out', 'after', 'few', 'morning', 'but', 'only', 'its', 'itself', 'do', 'how', 'who', 'did', 'when', 'into', 'not', 'will', 'yours', 'yourselves', 'such', 'why', 'once', 'each', 'can', 'has', 'further', 'his', 'if', 'their', 'now', 'hers', 'against', 'your', 'does', 'what', 'themselves', 'we', 'up', 'it', 'those', 'yourself', 'of', 'these', 'so', 'just', 'through', 'with', 'again', 'down', 'this', 'was', 'any', 'the', 'be', 'you', 'in', 'too'}\n"
          ]
        }
      ]
    },
    {
      "cell_type": "code",
      "source": [
        "# Do the same task another way. Keep in mind to use the original set of stop_words for this piece of code\n",
        "up=list(stop_words) + custom_stop_words\n",
        "\n",
        "\n",
        "# Print the updated stop words\n",
        "print(up)"
      ],
      "metadata": {
        "colab": {
          "base_uri": "https://localhost:8080/"
        },
        "id": "DbBhLdAoaJGd",
        "outputId": "3575c1af-167a-4c0a-9b83-196884bc676c"
      },
      "execution_count": 20,
      "outputs": [
        {
          "output_type": "stream",
          "name": "stdout",
          "text": [
            "['she', 'here', 'because', 'above', 'good', 'where', 'her', 'had', 'during', 'own', 'for', 'over', 'him', 'than', 'while', 'ourselves', 'at', 'me', 'most', 'or', 'some', 'they', 'our', 'himself', 'a', 'nor', 'having', 's', 'them', 'as', 'other', 'are', 'am', 'hello', 'he', 'should', 'about', 'both', 'which', 'half', 'whom', 'before', 'and', 'under', 'my', 'no', 'herself', 'being', 'ours', 'between', 'on', 'an', 'until', 'have', 'by', 'been', 'myself', 'i', 'below', 'theirs', 'that', 'were', 'is', 'don', 'to', 'there', 'all', 'very', 'from', 'same', 't', 'yearly', 'doing', 'more', 'then', 'off', 'out', 'after', 'few', 'morning', 'but', 'only', 'its', 'itself', 'do', 'how', 'who', 'did', 'when', 'into', 'not', 'will', 'yours', 'yourselves', 'such', 'why', 'once', 'each', 'can', 'has', 'further', 'his', 'if', 'their', 'now', 'hers', 'against', 'your', 'does', 'what', 'themselves', 'we', 'up', 'it', 'those', 'yourself', 'of', 'these', 'so', 'just', 'through', 'with', 'again', 'down', 'this', 'was', 'any', 'the', 'be', 'you', 'in', 'too', 'hello', 'good', 'morning', 'half', 'yearly']\n"
          ]
        }
      ]
    },
    {
      "cell_type": "markdown",
      "source": [
        "# Problem 4\n",
        "Write a Python script to check whether a given key already exists in a dictionary. If it does, drop that key from the dictionary. If it does not, add that key and corresponding value to the dictionary"
      ],
      "metadata": {
        "id": "9_nWLOt6cGP9"
      }
    },
    {
      "cell_type": "code",
      "source": [
        "# Your dictionary\n",
        "employee_dict = {'Name':'Sanket','Skills':['Python','Machine Learning','Deep Learning'],'Band':6.0,\n",
        "                 'Promotion Year':[2016,2018,2020]}"
      ],
      "metadata": {
        "id": "_6Yig2RAcJGx"
      },
      "execution_count": 21,
      "outputs": []
    },
    {
      "cell_type": "code",
      "source": [
        "# Check if the key 'Employee_ID' is present in the dictionary. Hint : use a boolean variable to store this value\n",
        "'Employee_ID' in employee_dict\n",
        "\n",
        "# If not present add this key to this dictionary and the corresponding value to be 4503233\n",
        "employee_dict.update({'Employee_ID':4503233})\n",
        "print(employee_dict)"
      ],
      "metadata": {
        "colab": {
          "base_uri": "https://localhost:8080/"
        },
        "id": "pRuU_k17cMBi",
        "outputId": "f5748df5-7dc0-477e-bb83-0e4a4bb845ad"
      },
      "execution_count": 26,
      "outputs": [
        {
          "output_type": "stream",
          "name": "stdout",
          "text": [
            "{'Name': 'Sanket', 'Skills': ['Python', 'Machine Learning', 'Deep Learning'], 'Band': 6.0, 'Promotion Year': [2016, 2018, 2020], 'Employee_ID': 4503233}\n"
          ]
        }
      ]
    },
    {
      "cell_type": "code",
      "source": [
        "# Check if the key 'Band' is present in the dictionary.\n",
        "'Band' in employee_dict\n",
        "\n",
        "# If present, drop this key from the dictionary\n",
        "employee_dict.pop(\"Band\")"
      ],
      "metadata": {
        "colab": {
          "base_uri": "https://localhost:8080/"
        },
        "id": "yXSBxr5lcORX",
        "outputId": "970cbd84-f484-4d8b-d8f1-8d9a2dee2784"
      },
      "execution_count": 27,
      "outputs": [
        {
          "output_type": "execute_result",
          "data": {
            "text/plain": [
              "6.0"
            ]
          },
          "metadata": {},
          "execution_count": 27
        }
      ]
    },
    {
      "cell_type": "code",
      "source": [
        "# Print the updated dictionary\n",
        "print(employee_dict)"
      ],
      "metadata": {
        "colab": {
          "base_uri": "https://localhost:8080/"
        },
        "id": "b4Q5Bn2BcQVE",
        "outputId": "6c4de1ca-a4a0-4c51-b306-0fdeefef81be"
      },
      "execution_count": 28,
      "outputs": [
        {
          "output_type": "stream",
          "name": "stdout",
          "text": [
            "{'Name': 'Sanket', 'Skills': ['Python', 'Machine Learning', 'Deep Learning'], 'Promotion Year': [2016, 2018, 2020], 'Employee_ID': 4503233}\n"
          ]
        }
      ]
    }
  ]
}