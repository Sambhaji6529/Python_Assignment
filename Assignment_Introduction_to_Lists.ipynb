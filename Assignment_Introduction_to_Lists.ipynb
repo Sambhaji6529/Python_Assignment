{
  "nbformat": 4,
  "nbformat_minor": 0,
  "metadata": {
    "colab": {
      "provenance": [],
      "authorship_tag": "ABX9TyNIQMf+4coMsPGtkV1erdpD",
      "include_colab_link": true
    },
    "kernelspec": {
      "name": "python3",
      "display_name": "Python 3"
    },
    "language_info": {
      "name": "python"
    }
  },
  "cells": [
    {
      "cell_type": "markdown",
      "metadata": {
        "id": "view-in-github",
        "colab_type": "text"
      },
      "source": [
        "<a href=\"https://colab.research.google.com/github/Sambhaji6529/Python_Assignment/blob/main/Assignment_Introduction_to_Lists.ipynb\" target=\"_parent\"><img src=\"https://colab.research.google.com/assets/colab-badge.svg\" alt=\"Open In Colab\"/></a>"
      ]
    },
    {
      "cell_type": "markdown",
      "source": [
        "# Problem 1\n",
        "A list contains the average daily temperature(in degree Celsius) of a city over a particular week. Write a Python code to swap the highest and the lowest temperatures"
      ],
      "metadata": {
        "id": "HiaCeIjPTZTt"
      }
    },
    {
      "cell_type": "code",
      "execution_count": 1,
      "metadata": {
        "id": "IHfGLVBNTPBA"
      },
      "outputs": [],
      "source": [
        "# A list containing average daily temperature over a week \n",
        "temperatures = [34, 40, 29, 33, 42, 37, 39 ]\n",
        "\n",
        "# The expected output \n",
        "# output_temperatures = [34, 40, 42, 33, 29, 37, 39]"
      ]
    },
    {
      "cell_type": "code",
      "source": [
        "# Store the highest temperature\n",
        "max_temp = max(temperatures)\n",
        "\n",
        "# Index of the element with the highest temperature\n",
        "max_temp_index = max(temperatures)\n",
        "print('temperatures =',max_temp_index)"
      ],
      "metadata": {
        "id": "G4uquqDoTefc",
        "colab": {
          "base_uri": "https://localhost:8080/"
        },
        "outputId": "8ebf00be-9b4d-4d52-b883-9f52e4dfe8f0"
      },
      "execution_count": 11,
      "outputs": [
        {
          "output_type": "stream",
          "name": "stdout",
          "text": [
            "temperatures = 42\n"
          ]
        }
      ]
    },
    {
      "cell_type": "code",
      "source": [
        "# Store the lowest temperature \n",
        "min_temp =  min(temperatures)\n",
        "\n",
        "# Index of the element with the lowest temperature\n",
        "min_temp_index = min(temperatures)\n"
      ],
      "metadata": {
        "id": "K8Y41xNtTg03"
      },
      "execution_count": 6,
      "outputs": []
    },
    {
      "cell_type": "code",
      "source": [
        "# Swap the highest and the lowest temperatures"
      ],
      "metadata": {
        "id": "BFyfrW6eTk5_"
      },
      "execution_count": null,
      "outputs": []
    },
    {
      "cell_type": "code",
      "source": [
        "# Print the output list\n",
        "print('temperatures =',min_temp_index)"
      ],
      "metadata": {
        "id": "A0Tw2IvUTm89",
        "colab": {
          "base_uri": "https://localhost:8080/"
        },
        "outputId": "de086f12-1767-47e7-8c8c-7a121f69d58c"
      },
      "execution_count": 12,
      "outputs": [
        {
          "output_type": "stream",
          "name": "stdout",
          "text": [
            "temperatures = 29\n"
          ]
        }
      ]
    },
    {
      "cell_type": "markdown",
      "source": [
        "# Problem 2\n",
        "\n",
        "**Measures of Averages** "
      ],
      "metadata": {
        "id": "wOMvxItf1WI7"
      }
    },
    {
      "cell_type": "markdown",
      "source": [
        "\n",
        "\n",
        "*   Mean of a group is defined as the sum of the elements in the group divided by the number of elements in the group.\n",
        "*   Median is the middle number in a sorted, ascending or descending, list of numbers. \n",
        "If the list has ***N*** numbers where ***N*** is odd, then median is the element in the middle i.e, \n",
        " (N+1)/2 element. If **N** is even, then median is the mean of (n/2) and (N/2+1) elements\n",
        "\n",
        "\n"
      ],
      "metadata": {
        "id": "K3hw-Y6u1jmj"
      }
    },
    {
      "cell_type": "code",
      "source": [
        "# List of product prices\n",
        "\n",
        "prod_price_list = [400, 250, 800, 550, 600, 820, 720, 15000, 360,250]"
      ],
      "metadata": {
        "id": "sfunKPxC2sQZ"
      },
      "execution_count": 13,
      "outputs": []
    },
    {
      "cell_type": "code",
      "source": [
        "# Calculate the mean of the product prices. Use list functions. Also print the mean_price\n",
        "def mean(prod_price_list):\n",
        "  return sum(prod_price_list) /  len(prod_price_list)\n",
        "\n",
        "mean(prod_price_list)"
      ],
      "metadata": {
        "colab": {
          "base_uri": "https://localhost:8080/"
        },
        "id": "d3sTruOx2vH1",
        "outputId": "e023dc80-8dcb-4c6c-9a12-f70a9d108a0a"
      },
      "execution_count": 17,
      "outputs": [
        {
          "output_type": "execute_result",
          "data": {
            "text/plain": [
              "1975.0"
            ]
          },
          "metadata": {},
          "execution_count": 17
        }
      ]
    },
    {
      "cell_type": "markdown",
      "source": [
        "# **Calculate the median price**"
      ],
      "metadata": {
        "id": "nIhHhYHW2xLI"
      }
    },
    {
      "cell_type": "code",
      "source": [
        "# Step 1 - Obtain the sorted list. Print the sorted_prices\n",
        "sorted_prices ="
      ],
      "metadata": {
        "id": "mrjkdUfF2w2z"
      },
      "execution_count": null,
      "outputs": []
    },
    {
      "cell_type": "code",
      "source": [
        "# Check if the number of elements in the list is even or odd"
      ],
      "metadata": {
        "id": "8U7PlEZa23ig"
      },
      "execution_count": null,
      "outputs": []
    },
    {
      "cell_type": "code",
      "source": [
        "# Use the corresponding formula to calculate the median and print the median\n",
        "median_price = "
      ],
      "metadata": {
        "id": "yBBhjQoq25hu"
      },
      "execution_count": null,
      "outputs": []
    },
    {
      "cell_type": "code",
      "source": [
        "# Check which is greater, mean or median"
      ],
      "metadata": {
        "id": "wznGAaME2-Gf"
      },
      "execution_count": null,
      "outputs": []
    },
    {
      "cell_type": "markdown",
      "source": [
        "**Why do you think that is the case??**"
      ],
      "metadata": {
        "id": "NJtBNgbj3BZG"
      }
    },
    {
      "cell_type": "markdown",
      "source": [
        "**Write your explanation in this text cell**\n",
        "\n",
        "**Your explanation :**"
      ],
      "metadata": {
        "id": "t6PeBAqg3EeZ"
      }
    }
  ]
}