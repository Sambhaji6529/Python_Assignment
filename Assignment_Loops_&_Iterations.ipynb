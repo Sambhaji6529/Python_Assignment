{
  "nbformat": 4,
  "nbformat_minor": 0,
  "metadata": {
    "colab": {
      "provenance": [],
      "authorship_tag": "ABX9TyMt//PHxayhMOi5G4yz9ehf",
      "include_colab_link": true
    },
    "kernelspec": {
      "name": "python3",
      "display_name": "Python 3"
    },
    "language_info": {
      "name": "python"
    }
  },
  "cells": [
    {
      "cell_type": "markdown",
      "metadata": {
        "id": "view-in-github",
        "colab_type": "text"
      },
      "source": [
        "<a href=\"https://colab.research.google.com/github/Sambhaji6529/Python_Assignment/blob/main/Assignment_Loops_%26_Iterations.ipynb\" target=\"_parent\"><img src=\"https://colab.research.google.com/assets/colab-badge.svg\" alt=\"Open In Colab\"/></a>"
      ]
    },
    {
      "cell_type": "markdown",
      "source": [
        "The SETI Institute is a not-for-profit research organization incorporated in 1984 whose mission is \n",
        "to explore, understand, and explain the origin and nature of life in the universe, and to apply the knowledge gained to inspire and guide present and future generations. \n",
        "It aims for discovery and for sharing knowledge as scientific ambassadors to the public, the press, and the government. SETI stands for the \"Search for Extraterrestrial Intelligence\".\n",
        "\n",
        "SETI received some signals from a far away galaxy on June 14, 2012. These signals could have been from a possible alien civilization (similar to what you would have seen in the movie Arrival).\n",
        "\n",
        "The signals indicated the existence of a secret language for sending messages across. Following are the observations made by the SETI team who discovered these signals :\n",
        "\n",
        "\n",
        "*   Aliens share a tuple, each element of tuple will be a string of alphabets\n",
        "\n",
        "*   Scientists still don't know what is the content of the strings inside the tuples but depending upon the length of the string, the string translates into an alphabet (0 ≡ ,1 ≡ A, 2 ≡ B, 3 ≡ C, .., 26 ≡ Z)\n",
        "\n",
        "\n",
        "\n",
        "\n",
        "\n",
        "\n",
        "\n",
        "\n",
        "*   \n",
        "Space between the words of the message is represented by an empty string\n",
        "\n",
        "\n",
        "A sample message received by SETI\n",
        "\n",
        "ADAM EVE is denoted by the following tuple:\n",
        "\n",
        "\n",
        " t = (\"s\", \"dymw\", \"z\", \"ndkjaakjkjnda\",\"\",\"tybhg\",\"nmbcjbabdbsabbsbhdbshr\",\"htroy\" )\n",
        "Explanation:\n",
        "\n",
        "\n",
        "\n",
        "*   A list of length of each element in the tuple is : [1,4,1,13,0,5,22,5]\n",
        "*   Upon replacing numbers with corresponding alphabets and spaces, we get :\n",
        "\n",
        "\n",
        "\n",
        "   ['A','D','A','M','','E','V','E'] "
      ],
      "metadata": {
        "id": "Olz3lO4v6iPV"
      }
    },
    {
      "cell_type": "markdown",
      "source": [
        "# Problem 1\n",
        "Create a dictionary where the key corresponds to the position of the alphabet(consider space as the first alphabet) and the value corresponding to the key will be the alphabet.\n",
        "\n",
        "range() function in Python is pretty useful to get a list of numbers in sequence. You can use help(range) to know more about its details"
      ],
      "metadata": {
        "id": "WU58f1wp8ER1"
      }
    },
    {
      "cell_type": "code",
      "execution_count": 8,
      "metadata": {
        "colab": {
          "base_uri": "https://localhost:8080/"
        },
        "id": "iX9yZatM6heS",
        "outputId": "6df8db86-a85e-4606-9252-f24697a4ec44"
      },
      "outputs": [
        {
          "output_type": "stream",
          "name": "stdout",
          "text": [
            "['', 'a', 'b', 'c', 'd', 'e', 'f', 'g', 'h', 'i', 'j', 'k', 'l', 'm', 'n', 'o', 'p', 'q', 'r', 's', 't', 'u', 'v', 'w', 'x', 'y', 'z']\n"
          ]
        }
      ],
      "source": [
        "# Create your dictionary below with keys as position of the alphabet and the value of the key will be the alphabet itself\n",
        "\n",
        "# Create a list of numbers from 0 to 26 using the range() function\n",
        "list_of_numbers = list(range(27))\n",
        "\n",
        "# Create the list of alphabets. Hint use the split() method\n",
        "alphabets =\",a,b,c,d,e,f,g,h,i,j,k,l,m,n,o,p,q,r,s,t,u,v,w,x,y,z\"\n",
        "alphabet_list = alphabets.split(',')\n",
        "\n",
        "print(alphabet_list)"
      ]
    },
    {
      "cell_type": "code",
      "source": [
        "# Create a dictionary by zipping together the above two lists\n",
        "alphabet_dict = dict(zip(list_of_numbers,alphabet_list))\n",
        "\n",
        "# Print your dictionary to double check;\n",
        "print(alphabet_dict)    "
      ],
      "metadata": {
        "colab": {
          "base_uri": "https://localhost:8080/"
        },
        "id": "WuuQ7mWf8Tiz",
        "outputId": "33206138-f32a-4e4a-9d1c-cf0a020fcc5e"
      },
      "execution_count": 9,
      "outputs": [
        {
          "output_type": "stream",
          "name": "stdout",
          "text": [
            "{0: '', 1: 'a', 2: 'b', 3: 'c', 4: 'd', 5: 'e', 6: 'f', 7: 'g', 8: 'h', 9: 'i', 10: 'j', 11: 'k', 12: 'l', 13: 'm', 14: 'n', 15: 'o', 16: 'p', 17: 'q', 18: 'r', 19: 's', 20: 't', 21: 'u', 22: 'v', 23: 'w', 24: 'x', 25: 'y', 26: 'z'}\n"
          ]
        }
      ]
    },
    {
      "cell_type": "markdown",
      "source": [
        "# Problem 2\n",
        "Scientists receive the following message code from the alien civilization\n",
        "\n",
        "encrypyted_message = (\"ajsuydtbe\", \"\", \"wunjbfusnjrgut\", \"uhbhr\", \"oirun\", \"lpef\", \"\", \"vhejsibr\", \"ydtse\", \"qlvuusrntuos\", \"ijwlbutybhlsoaxh\")\n",
        "\n",
        "You have been asked to decode the above message"
      ],
      "metadata": {
        "id": "LBjK5vK7E1cX"
      }
    },
    {
      "cell_type": "code",
      "source": [
        "# Store the message in a variable \n",
        "encrypted_message = (\"ajsuydtbe\", \"\", \"wunjbfusnjrgut\", \"uhbhr\", \"oirun\", \"lpef\", \"\", \"vhejsibr\", \"ydtse\", \"qlvuusrntuos\", \"ijwlbutybhlsoaxh\")\n",
        "     "
      ],
      "metadata": {
        "id": "KcdjM69NE8jC"
      },
      "execution_count": 7,
      "outputs": []
    },
    {
      "cell_type": "code",
      "source": [
        "# Follow the steps from your solution to problem 1\n",
        "\n",
        "# Create an empty list \n",
        "string_length_list  = []\n",
        "\n",
        "# Append the length of strings of your tuple using a for loop\n",
        "for message in encrypted_message:\n",
        "  string_length_list.append(len(message))\n",
        "\n",
        "# Print the list of string lengths\n",
        "stl = (list(string_length_list))\n",
        "print(stl)\n",
        "print(len(stl))"
      ],
      "metadata": {
        "colab": {
          "base_uri": "https://localhost:8080/"
        },
        "id": "0MArYdC8FDHa",
        "outputId": "0ff10376-43e9-4dbb-bd15-301e9350a03c"
      },
      "execution_count": 10,
      "outputs": [
        {
          "output_type": "stream",
          "name": "stdout",
          "text": [
            "[9, 0, 14, 5, 5, 4, 0, 8, 5, 12, 16]\n",
            "11\n"
          ]
        }
      ]
    },
    {
      "cell_type": "code",
      "source": [
        "# Create a string to store the decrypyted message\n",
        "decrypted_message = \"\"\n",
        "\n",
        "# Concatenate the characters using a for loop to get your final decoded message\n",
        "for i in stl:\n",
        "  decrypted_message = decrypted_message + alphabet_dict[i]\n",
        "\n",
        "\n",
        "# Print the message you have decrypted\n",
        "print(decrypted_message)"
      ],
      "metadata": {
        "colab": {
          "base_uri": "https://localhost:8080/"
        },
        "id": "GwxPcLbOFFNA",
        "outputId": "0555f481-3f33-4c3a-bd70-88d0ef94b2be"
      },
      "execution_count": 11,
      "outputs": [
        {
          "output_type": "stream",
          "name": "stdout",
          "text": [
            "ineedhelp\n"
          ]
        }
      ]
    },
    {
      "cell_type": "markdown",
      "source": [
        "# Problem 3\n",
        "Aliens receive the reply from the scientists. They decode the message and send an encrypted message again. Due to some aberrations because of an existing very massive star, one of the words of their message gets transformed into something gibberish/unreadable. They sent the following message:\n",
        "\n",
        " I saw a some gibberish please help me soon\n",
        "\n",
        "Scientists were baffled by the presence of such an indecipherable word in the message sent by Aliens. Suddenly they receive another signal from them which contains the gibberish word but this time the letters have been jumbled up. Scientists need to sort the letters of this word in alphabetical order within it to get the actual transmitted word\n",
        "\n",
        "The encoded list of the unknown word is:\n",
        "\n",
        "jumbled_word = [\"hugdtck\", \"tsogbklesrawqcbjplu\", \"qkisrubskoaitbt\", \"nslaoetr\", \"oksinjioaendnjsdqwbh\"]"
      ],
      "metadata": {
        "id": "rmmeqhk-LC1a"
      }
    },
    {
      "cell_type": "code",
      "source": [
        "# Store the list of jumbled word in a variable \n",
        "jumbled_word = [\"hugdtck\", \"tsogbklesrawqcbjplu\", \"qkisrubskoaitbt\", \"nslaoetr\", \"oksinjioaendnjsdqwbh\"]\n",
        "     \n"
      ],
      "metadata": {
        "id": "CQ1X7gSwMNq2"
      },
      "execution_count": 3,
      "outputs": []
    },
    {
      "cell_type": "code",
      "source": [
        "# Create an empty list \n",
        "string_length_list = []\n",
        "\n",
        "# Append the length of each string in the list using a for loop\n",
        "for word in jumbled_word:\n",
        " string_length_list.append(len(word))\n",
        "\n",
        "\n",
        "# Print the above list\n",
        "print(string_length_list)\n",
        "\n",
        "# Create another list to store the corresponding characters and add the characters using for loop\n",
        "chars_in_jumbled_state = []\n",
        "\n",
        "for i in string_length_list:\n",
        "  remove = chars_in_jumbled_state.append(alphabet_dict[i])\n",
        "\n",
        "\n",
        "# Print this list of jumbled characters\n",
        "print(chars_in_jumbled_state)\n",
        "     "
      ],
      "metadata": {
        "colab": {
          "base_uri": "https://localhost:8080/"
        },
        "id": "MEg7d_FFMUp3",
        "outputId": "258f4a82-c360-452c-a2f7-f56e0e29db60"
      },
      "execution_count": 12,
      "outputs": [
        {
          "output_type": "stream",
          "name": "stdout",
          "text": [
            "[7, 19, 15, 8, 20]\n",
            "['g', 's', 'o', 'h', 't']\n"
          ]
        }
      ]
    },
    {
      "cell_type": "code",
      "source": [
        "# Get the  sorted list\n",
        "sorted_char_list = sorted(chars_in_jumbled_state)\n",
        "\n",
        "# Print the sorted list\n",
        "print(sorted_char_list)\n",
        "\n",
        "# Get all the characters in one word. Use join() method on a null string and pass the sorted char list as the argument of this method. Use help(join) to know more about it.\n",
        "correct_word = \"\"\n",
        "correct_word =\"\".join(sorted_char_list)\n",
        "# Print the complete message\n",
        "print(f\"I saw a {correct_word} please help me soon\")\n",
        "     "
      ],
      "metadata": {
        "colab": {
          "base_uri": "https://localhost:8080/"
        },
        "id": "YQ0ymQU6MXO3",
        "outputId": "11a01df6-5ed7-4612-936b-bbd0345ca83f"
      },
      "execution_count": 13,
      "outputs": [
        {
          "output_type": "stream",
          "name": "stdout",
          "text": [
            "['g', 'h', 'o', 's', 't']\n",
            "I saw a ghost please help me soon\n"
          ]
        }
      ]
    },
    {
      "cell_type": "markdown",
      "source": [
        "# Problem 4\n",
        "A perfect number is a positive integer that is equal to the sum of its proper divisors. The smallest perfect number is 6, which is the sum of 1, 2, and 3. Based on a given user input, you need to print whether the input is a perfect number or not. Check on sample inputs such as 28, 128, 200, 496"
      ],
      "metadata": {
        "id": "l4LMH5ltsYuB"
      }
    },
    {
      "cell_type": "code",
      "source": [
        "# Take the user input"
      ],
      "metadata": {
        "id": "EAiz0AQvswb8"
      },
      "execution_count": 28,
      "outputs": []
    },
    {
      "cell_type": "code",
      "source": [
        "# Using a while loop check if a number is a perfect number\n",
        "num= int(input(\"Enter any postive number:\"))\n",
        "sum=0\n",
        "i=1\n",
        "while(i< num):\n",
        "  if num % i == 0:\n",
        "    sum = sum +i\n",
        "  i=i+1\n",
        "\n",
        "if sum == num:\n",
        "   print(num,\"is a perfect numner\")\n",
        "else:\n",
        "  print(num,\"is not a perfect number\")"
      ],
      "metadata": {
        "colab": {
          "base_uri": "https://localhost:8080/"
        },
        "id": "FD1-OqT5s9nq",
        "outputId": "924128b2-2eb3-4510-aef2-0d4d915d1729"
      },
      "execution_count": 33,
      "outputs": [
        {
          "output_type": "stream",
          "name": "stdout",
          "text": [
            "Enter any postive number:28\n",
            "28 is a perfect numner\n"
          ]
        }
      ]
    },
    {
      "cell_type": "markdown",
      "source": [
        "# Problem 5\n",
        "Consider a famous movie line by Liam Neeson. You need to print only those words from this famous line whose length is greater than 3. Also the output words should be unique.You need to take care of the special characters such as ,. Characters such as apostrophe will be considered to be part of the word.\n"
      ],
      "metadata": {
        "id": "CvgSBTlp1rve"
      }
    },
    {
      "cell_type": "code",
      "source": [
        "# Liam Neeson's quote\n",
        "movie_quote = \"If you let my daughter go now, that'll be the end of it. I will not look for you, I will not pursue you. But if you don't, I will look for you, I will find you, and I will kill you.\"\n",
        "\n",
        "# Remove the characters which are not to be considered. In this case they include characters such as , .\n",
        "bad_chars=[',',',']\n",
        "\n",
        "for i in bad_chars:\n",
        "  movie_quote = movie_quote.replace(i,'')\n",
        "\n",
        "\n",
        "# Print the modified movie quote\n",
        "print(movie_quote)"
      ],
      "metadata": {
        "colab": {
          "base_uri": "https://localhost:8080/"
        },
        "id": "A_6jv2UT1v2i",
        "outputId": "4c795e3b-d317-4286-a8a5-4ab2bd323522"
      },
      "execution_count": 36,
      "outputs": [
        {
          "output_type": "stream",
          "name": "stdout",
          "text": [
            "If you let my daughter go now that'll be the end of it. I will not look for you I will not pursue you. But if you don't I will look for you I will find you and I will kill you.\n"
          ]
        }
      ]
    },
    {
      "cell_type": "code",
      "source": [
        "\n",
        "# Convert your sentence to a list of words\n",
        "list_of_words = movie_quote.split(\" \")\n",
        "\n",
        "\n",
        "# Using a for loop, print the words whose length is greater than 3\n",
        "words_we_want = []\n",
        "\n",
        "for word in list_of_words:\n",
        "  if len(word)>3:\n",
        "    words_we_want.append(word)\n",
        "\n",
        "\n",
        "\n",
        "# Take only unique words\n",
        "unique_words = set(words_we_want)\n",
        "print(f\"The unique word list is {unique_words} \")"
      ],
      "metadata": {
        "colab": {
          "base_uri": "https://localhost:8080/"
        },
        "id": "gRa-BzuZ1zd9",
        "outputId": "9daeecdb-0759-4664-edbc-2a658f4a5a66"
      },
      "execution_count": 37,
      "outputs": [
        {
          "output_type": "stream",
          "name": "stdout",
          "text": [
            "The unique word list is {'pursue', 'daughter', \"don't\", 'you.', 'will', 'kill', \"that'll\", 'look', 'find'} \n"
          ]
        }
      ]
    }
  ]
}