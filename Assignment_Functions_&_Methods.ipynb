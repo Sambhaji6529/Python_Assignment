{
  "nbformat": 4,
  "nbformat_minor": 0,
  "metadata": {
    "colab": {
      "provenance": [],
      "authorship_tag": "ABX9TyN4enQ9TYAn/3LzLVxNMANm",
      "include_colab_link": true
    },
    "kernelspec": {
      "name": "python3",
      "display_name": "Python 3"
    },
    "language_info": {
      "name": "python"
    }
  },
  "cells": [
    {
      "cell_type": "markdown",
      "metadata": {
        "id": "view-in-github",
        "colab_type": "text"
      },
      "source": [
        "<a href=\"https://colab.research.google.com/github/Sambhaji6529/Python_Assignment/blob/main/Assignment_Functions_%26_Methods.ipynb\" target=\"_parent\"><img src=\"https://colab.research.google.com/assets/colab-badge.svg\" alt=\"Open In Colab\"/></a>"
      ]
    },
    {
      "cell_type": "markdown",
      "source": [
        "# Problem 1\n",
        "Write a function which takes the excel column name as an input and returns the corresponding column number. A few examples are :\n",
        "\n",
        "\n",
        "*   column name = 'J' , column number = 10\n",
        "\n",
        "*   column name = 'AP' , column number = 42\n",
        "*   column name = 'AAA', column number = 703\n",
        "\n",
        "\n",
        "\n"
      ],
      "metadata": {
        "id": "qbeB3Pu5AefB"
      }
    },
    {
      "cell_type": "code",
      "execution_count": 4,
      "metadata": {
        "id": "a_BLEU6OABQb"
      },
      "outputs": [],
      "source": [
        "def get_excel_column_number(column_name):\n",
        "  '''\n",
        "  This functions returns the corresponding column number for an excel column name\n",
        "  '''\n",
        "  # Write your code here\n",
        "  result =0;\n",
        "  for B in range(len(column_name)):\n",
        "    result = result * 26;\n",
        "    result = result + ord(column_name[B]) - ord('A')+1;\n",
        "\n",
        "  return result;"
      ]
    },
    {
      "cell_type": "code",
      "source": [
        "# Check\n",
        "get_excel_column_number('J')"
      ],
      "metadata": {
        "colab": {
          "base_uri": "https://localhost:8080/"
        },
        "id": "oL-ZwAFVAxeM",
        "outputId": "438cf986-f54b-4f75-b82c-b86ac1a595f8"
      },
      "execution_count": 5,
      "outputs": [
        {
          "output_type": "execute_result",
          "data": {
            "text/plain": [
              "10"
            ]
          },
          "metadata": {},
          "execution_count": 5
        }
      ]
    },
    {
      "cell_type": "code",
      "source": [
        "# Check\n",
        "get_excel_column_number('AAB')"
      ],
      "metadata": {
        "colab": {
          "base_uri": "https://localhost:8080/"
        },
        "id": "Gr3I399iAy9G",
        "outputId": "60a4b424-466c-4299-cf91-ef3130074194"
      },
      "execution_count": 7,
      "outputs": [
        {
          "output_type": "execute_result",
          "data": {
            "text/plain": [
              "704"
            ]
          },
          "metadata": {},
          "execution_count": 7
        }
      ]
    },
    {
      "cell_type": "markdown",
      "source": [
        "# Problem 2\n",
        "We evaluate a standard machine learning classification model using various evaluation metrics. A classification model is a model which classifies a given observation or an event to a fixed set of categories. Suppose I train a machine learning model to classify images of cats and dogs. For each image, the machine classifies the image with either a 'Cat' or a 'Dog'. So in essence for each input image, there is a corresponding output by the model. This output can either be a 'Cat' or a 'Dog'.\n",
        "\n",
        "To evaluate such a machine learning model which is trained to classify a given observation with at most two labels, a lot of candidate evaluation metrics are available. Accuracy is one of such evaluation metrics.\n",
        "\n",
        "Accuracy defintion : Suppose you are given 20 input images of cats and dogs. You already know from these images that there are 11 cats and 9 dogs. You train a machine learning model to classify these images into cats and dogs. The machine predicts 9 cats correctly and 8 dogs correctly. The accuracy of the model is then defined as (correctly predicted cats and dogs)/(total cats and dogs). In this case it is (9+8)/(11+9) = 17/20 = 0.85 or 85%. It is a good practice to report the accuracy in percentages\n",
        "\n",
        "You are given two lists each of length 20 : one list contains the actual labels for the images of cats and dogs. The other list contains the predicted labels (by the machine) for the images of cats and dogs.\n",
        "\n",
        "How to read the two lists ? For example for the first image, actual label is Cat and the predicted label is Cat. For the last image, actual label is Dog and the predicted label is Cat. The same index in the two lists corresponds to the same image"
      ],
      "metadata": {
        "id": "TJ5cMYW8731c"
      }
    },
    {
      "cell_type": "code",
      "source": [
        "actual_labels = ['Cat','Dog','Cat','Cat','Dog','Cat','Dog','Cat','Cat','Cat','Dog','Dog','Cat','Cat','Cat','Dog','Dog','Dog','Cat','Dog']"
      ],
      "metadata": {
        "id": "9H_WguOw7-f6"
      },
      "execution_count": 8,
      "outputs": []
    },
    {
      "cell_type": "code",
      "source": [
        "predicted_labels = ['Cat','Dog','Cat','Cat','Dog','Cat','Dog','Cat','Dog','Dog','Dog','Dog','Cat','Cat','Cat','Dog','Dog','Dog','Cat','Cat']"
      ],
      "metadata": {
        "id": "k0Jp2XiQ9edT"
      },
      "execution_count": 9,
      "outputs": []
    },
    {
      "cell_type": "markdown",
      "source": [
        "Write a function to calculate the accuracy. This functions takes two lists as inputs and returns the accuracy score in percentage"
      ],
      "metadata": {
        "id": "Z97UlNIo9ka_"
      }
    },
    {
      "cell_type": "code",
      "source": [
        "def calculate_accuracy(actual, predicted):\n",
        "  '''\n",
        "  This functions calculates the accuracy based on two input lists\n",
        "  '''\n",
        "  # Write your code here\n",
        "  zipped_labels = zip(actual,predicted)\n",
        "  #use the list comrephension\n",
        "  correct = ['correct' for act,pred in zipped_labels if act==pred]\n",
        "  correct_prediction = len(correct)\n",
        "  #total images\n",
        "  total_images = len(actual)\n",
        "  accuracy = round(correct_prediction*100/total_images,2)\n",
        "  return accuracy"
      ],
      "metadata": {
        "id": "1vm_66l09lX2"
      },
      "execution_count": 13,
      "outputs": []
    },
    {
      "cell_type": "code",
      "source": [
        "# Print the accuracy score for the given lists\n",
        "accuracy1 = calculate_accuracy(actual_labels,predicted_labels)\n",
        "print(accuracy1)"
      ],
      "metadata": {
        "colab": {
          "base_uri": "https://localhost:8080/"
        },
        "id": "ILNfWrKG9r0v",
        "outputId": "2eca76eb-d669-4432-e8f2-68c421c47fc9"
      },
      "execution_count": 14,
      "outputs": [
        {
          "output_type": "stream",
          "name": "stdout",
          "text": [
            "85.0\n"
          ]
        }
      ]
    },
    {
      "cell_type": "markdown",
      "source": [
        "\n",
        "\n",
        "*   Precision for cats is defined as the number of correctly predicted cats divided by the number of predicted cats. Report precision in percentages.\n",
        "\n",
        "*  Recall for cats is defined as the number of correctly predicted cats divided by the actual number of cats. Report recall in percentages.\n",
        "\n",
        "We can define the same two metrics for dogs as well.\n",
        "\n"
      ],
      "metadata": {
        "id": "v35E0l9m9vbj"
      }
    },
    {
      "cell_type": "markdown",
      "source": [
        "# Problem 3\n",
        "Write a Python function which returns the precision and recall for a given input label. Use the same two lists"
      ],
      "metadata": {
        "id": "F233ZWabA_hR"
      }
    },
    {
      "cell_type": "code",
      "source": [
        "def precision_recall(label = 'Dog'):\n",
        "  '''\n",
        "  This functions returns a tuple of precision and recall for a given input label\n",
        "  '''\n",
        "  # Your code here\n",
        "  zipped_labels = zip(actual_labels,predicted_labels)\n",
        "  # for Precision\n",
        "  correct_pred_labels = ['correct' for label1,label2 in zipped_labels if label1==label2 and label1==label]\n",
        "  number_of_correct_pred = len(correct_pred_labels)\n",
        "  number_of_pred_labels = predicted_labels.count(label)\n",
        "  precision = round(number_of_correct_pred*100/number_of_pred_labels,2)\n",
        "\n",
        "  # for Recall\n",
        "  actual_nuber_of_label = actual_labels.count(label)\n",
        "  recall = round(number_of_correct_pred*100/actual_nuber_of_label,2)\n",
        "  # return precision and recall\n",
        "  return precision,recall\n",
        "\n",
        "\n",
        "dog = precision_recall('Dog')\n",
        "print(dog)\n",
        "  "
      ],
      "metadata": {
        "colab": {
          "base_uri": "https://localhost:8080/"
        },
        "id": "iGwJc4qZ94LH",
        "outputId": "fd35207d-7689-4797-aa35-af3b30072cf7"
      },
      "execution_count": 18,
      "outputs": [
        {
          "output_type": "stream",
          "name": "stdout",
          "text": [
            "(80.0, 88.89)\n"
          ]
        }
      ]
    },
    {
      "cell_type": "markdown",
      "source": [
        "# Problem 4\n",
        "Write a Python function which takes a sentence and a length value as inputs and returns the counts of those words from the sentence whose length is equal to the provided input length value.\n",
        "Suppose if the input for the length value is 5, it will return the count of all those words which are of length 5"
      ],
      "metadata": {
        "id": "a9qeBWC7F2NF"
      }
    },
    {
      "cell_type": "code",
      "source": [
        "marvel_quote = \"The world has changed and none of us can go back. All we can do is our best, and sometimes the best that we can do is to start over.\"\n"
      ],
      "metadata": {
        "id": "ZntjvUvQF51G"
      },
      "execution_count": 19,
      "outputs": []
    },
    {
      "cell_type": "code",
      "source": [
        "# Your function below. Make sure to remove the special characters such as full stop and comma.\n",
        "def fixed_length_word_counts(sentence, length=3):\n",
        "  '''\n",
        "  This function returns the count of the words with the given input length\n",
        "  '''\n",
        "  # Your code below\n",
        "  sentence = sentence.replace(',','')\n",
        "  sentence = sentence.replace('.','')\n",
        "  sentence_list = sentence.split(' ')\n",
        "  # main code \n",
        "  words_with_given_input = [word for word in sentence_list if len(word)==length]\n",
        "  count_of_words = len(words_with_given_input)\n",
        "  return count_of_words\n",
        "  "
      ],
      "metadata": {
        "id": "RR7ocpi0F6Mg"
      },
      "execution_count": 20,
      "outputs": []
    },
    {
      "cell_type": "code",
      "source": [
        "# Check on the sample sentence\n",
        "fixed_length_word_counts(marvel_quote, length=3)"
      ],
      "metadata": {
        "colab": {
          "base_uri": "https://localhost:8080/"
        },
        "id": "K1TeVYe4GAwm",
        "outputId": "a76e785f-e087-476c-d3c4-67903ef4161a"
      },
      "execution_count": 21,
      "outputs": [
        {
          "output_type": "execute_result",
          "data": {
            "text/plain": [
              "10"
            ]
          },
          "metadata": {},
          "execution_count": 21
        }
      ]
    }
  ]
}