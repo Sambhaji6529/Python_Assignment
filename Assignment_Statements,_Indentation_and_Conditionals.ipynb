{
  "nbformat": 4,
  "nbformat_minor": 0,
  "metadata": {
    "colab": {
      "provenance": [],
      "authorship_tag": "ABX9TyOB9hYaSSbWWpkAMDPOUVqP",
      "include_colab_link": true
    },
    "kernelspec": {
      "name": "python3",
      "display_name": "Python 3"
    },
    "language_info": {
      "name": "python"
    }
  },
  "cells": [
    {
      "cell_type": "markdown",
      "metadata": {
        "id": "view-in-github",
        "colab_type": "text"
      },
      "source": [
        "<a href=\"https://colab.research.google.com/github/Sambhaji6529/Python_Assignment/blob/main/Assignment_Statements%2C_Indentation_and_Conditionals.ipynb\" target=\"_parent\"><img src=\"https://colab.research.google.com/assets/colab-badge.svg\" alt=\"Open In Colab\"/></a>"
      ]
    },
    {
      "cell_type": "markdown",
      "source": [
        "# Problem 1\n",
        "\n",
        "As an analyst, you had to present the quarterly performance results of your client. The data which you were provided was on daily basis. To complete this task, you needed to extract the quarter from a given date. For example:\n",
        "\n",
        "\n",
        "\n",
        "*   if the date lies between 1st Jan, 2020 - 31st March, 2020, you need to extract the corresponding quarter as '2020-Q1'\n",
        "\n",
        "*   if the date lies between 1st April, 2020 - 30th June, 2020, the extracted quarter will be '2020-Q2'\n",
        "\n",
        "\n",
        "*   if the date lies between 1st July, 2020 - 30th September, 2020, the extracted quarter will be '2020-Q3'\n",
        "\n",
        "*   if the date lies between 1st October, 2020 - 31st Decemeber, 2020 then the extracted quarter will be '2020-Q4'\n",
        "\n",
        "\n",
        "\n"
      ],
      "metadata": {
        "id": "h2mxqiHGzezm"
      }
    },
    {
      "cell_type": "code",
      "execution_count": 7,
      "metadata": {
        "colab": {
          "base_uri": "https://localhost:8080/"
        },
        "id": "d3f3UI3jyiKP",
        "outputId": "33bad819-5565-4878-a905-154f01c4f4aa"
      },
      "outputs": [
        {
          "name": "stdout",
          "output_type": "stream",
          "text": [
            "Enter The Date:2022-12-25\n"
          ]
        }
      ],
      "source": [
        "# Take a proper date input from the user in the format YYYY-MM-DD. Consider this date as a string\n",
        "user_date = input(\"Enter The Date:\")"
      ]
    },
    {
      "cell_type": "code",
      "source": [
        "# Write your code using if else statements to extract the quarter\n",
        "date_year = int(user_date[:4])\n",
        "date_month = int(user_date[5:7])\n",
        "\n",
        "# Store the quarter value in a string variable named quarter\n",
        "quarter = ''\n",
        "\n",
        "if date_month >=1 and date_month <4:\n",
        "  quarter = str(date_year) + '-Q1'\n",
        "elif date_month >=4 and date_month <7:\n",
        "  quarter = str(date_year) + '-Q2'\n",
        "elif date_month >=7 and date_month <10:\n",
        "  quarter = str(date_year) + '-Q3'\n",
        "else:\n",
        "  quarter = str(date_year) + '-Q4'"
      ],
      "metadata": {
        "id": "c_yW6cRS0V57"
      },
      "execution_count": 8,
      "outputs": []
    },
    {
      "cell_type": "code",
      "source": [
        "# Print the extracted quarter\n",
        "print(quarter)"
      ],
      "metadata": {
        "colab": {
          "base_uri": "https://localhost:8080/"
        },
        "id": "M2EcRCop0ZJp",
        "outputId": "c8b61c15-8348-4414-9541-2b20ab58316d"
      },
      "execution_count": 9,
      "outputs": [
        {
          "output_type": "stream",
          "name": "stdout",
          "text": [
            "2022-Q4\n"
          ]
        }
      ]
    },
    {
      "cell_type": "markdown",
      "source": [
        "# Problem 2\n",
        "You went out in your local neighbourhood to collect the data of people residing in the locale. You surveyed 5 people and collected some data and stored that in a dictionary. You recorded their names, their age, their sex, their heights(in cms) and their weights(in kgs)"
      ],
      "metadata": {
        "id": "ORGmzpeNEufj"
      }
    },
    {
      "cell_type": "code",
      "source": [
        "# Surveyed data \n",
        "import statistics\n",
        "locality_data = {'Name' : ['Abhinav','Sohail','Dheeraj','Rashmi','Vaishali'],\n",
        "                  'Age' : [42,29,35,28,32],\n",
        "                  'Sex' : ['Male', 'Male','Male','Female','Female'] , \n",
        "                  'Height' : [172,175,170,168,170],\n",
        "                  'Weight' : [70,82,60,55,64]\n",
        "                 }"
      ],
      "metadata": {
        "id": "IyQpLHF-E0XJ"
      },
      "execution_count": 24,
      "outputs": []
    },
    {
      "cell_type": "markdown",
      "source": [
        "\n",
        "\n",
        "*   Find the mean and median heights and weights of the people in your locality\n",
        "\n",
        "\n"
      ],
      "metadata": {
        "id": "RWOi3t0yE3ul"
      }
    },
    {
      "cell_type": "code",
      "source": [
        "# Calculate the mean height and print it\n",
        "mean_height = sum(locality_data['Height'])/len(locality_data['Height'])\n",
        "print(mean_height)\n",
        "\n",
        "# Calculate the median height and print it\n",
        "length_height = len(locality_data['Height'])\n",
        "sorted_height = sorted(locality_data['Height'])\n",
        "\n",
        "median_height = (sorted_height[int(length_height/2)-1])\n",
        "print(median_height)\n",
        "\n",
        "# Calculate the mean weight and print it\n",
        "mean_weight = sum(locality_data['Weight'])/len(locality_data['Weight'])\n",
        "print(mean_weight)\n",
        "\n",
        "# Calculate the median weight and print it\n",
        "length_weight = len(locality_data['Weight'])\n",
        "sorted_weight = sorted(locality_data['Weight'])\n",
        "\n",
        "median_weight = (sorted_weight[int(length_weight/2)-1])\n",
        "print(median_weight)"
      ],
      "metadata": {
        "colab": {
          "base_uri": "https://localhost:8080/"
        },
        "id": "HLWHRu9PE2xS",
        "outputId": "81534ba8-4295-4782-d4ac-4cde196b1087"
      },
      "execution_count": 26,
      "outputs": [
        {
          "output_type": "stream",
          "name": "stdout",
          "text": [
            "171.0\n",
            "170\n",
            "66.2\n",
            "60\n"
          ]
        }
      ]
    },
    {
      "cell_type": "markdown",
      "source": [
        "\n",
        "\n",
        "*  Write a Python code to print the first three elements from the list of age values corresponding to the key 'Age'\n",
        "\n"
      ],
      "metadata": {
        "id": "ww0awIqZE_G6"
      }
    },
    {
      "cell_type": "code",
      "source": [
        "# Python code to print the first three elements for the key 'Age'\n",
        "\n",
        "ages = locality_data['Age'][:3]\n",
        "ages"
      ],
      "metadata": {
        "colab": {
          "base_uri": "https://localhost:8080/"
        },
        "id": "f2mW-1w2FEsD",
        "outputId": "26ce400b-6836-404e-94e1-958db6e91bf0"
      },
      "execution_count": 29,
      "outputs": [
        {
          "output_type": "execute_result",
          "data": {
            "text/plain": [
              "[42, 29, 35]"
            ]
          },
          "metadata": {},
          "execution_count": 29
        }
      ]
    },
    {
      "cell_type": "markdown",
      "source": [
        "\n",
        "\n",
        "*   Write a Python code to print the last two elements of the name list if the list of values corresponding to the key 'Name' contains the element 'Rashmi' else print 'Name not found'\n",
        "\n",
        "\n"
      ],
      "metadata": {
        "id": "eKLt_NnXFHMA"
      }
    },
    {
      "cell_type": "code",
      "source": [
        "last_list_name = locality_data['Name'][-2:]\n",
        "\n",
        "if 'Rashmi' in locality_data['Name']:\n",
        "  print(last_list_name)\n",
        "else:\n",
        "  print('Name Not Found')"
      ],
      "metadata": {
        "colab": {
          "base_uri": "https://localhost:8080/"
        },
        "id": "5X_2LYBWFMnK",
        "outputId": "ac71375a-c08e-464c-adce-ea6a2468edc9"
      },
      "execution_count": 40,
      "outputs": [
        {
          "output_type": "stream",
          "name": "stdout",
          "text": [
            "['Rashmi', 'Vaishali']\n"
          ]
        }
      ]
    },
    {
      "cell_type": "markdown",
      "source": [
        "# Problem 3\n",
        "A student will not be allowed to sit in exam if his/her attendence is less than 75%.\n",
        "\n",
        "Take following input from user\n",
        "\n",
        "\n",
        "*   Number of classes held\n",
        "\n",
        "*   Number of classes attended\n",
        "\n"
      ],
      "metadata": {
        "id": "u6smiorfjjxM"
      }
    },
    {
      "cell_type": "code",
      "source": [
        "# Enter your input\n",
        "\n",
        "print(\"Number of classes held\")\n",
        "classes_held = int(input())\n",
        "\n",
        "print(\"Number of classes attended\")\n",
        "classes_attended = int(input())"
      ],
      "metadata": {
        "colab": {
          "base_uri": "https://localhost:8080/"
        },
        "id": "tD_TAoS1jurr",
        "outputId": "1b9e12d0-5b63-49e8-900f-da32e97d59bc"
      },
      "execution_count": 57,
      "outputs": [
        {
          "name": "stdout",
          "output_type": "stream",
          "text": [
            "Number of classes held\n",
            "100\n",
            "Number of classes attended\n",
            "77\n"
          ]
        }
      ]
    },
    {
      "cell_type": "code",
      "source": [
        "# Calculate the attendance percentage\n",
        "attendance = classes_attended*100/classes_held\n",
        "\n",
        "print(f'The attendance is {attendance}')"
      ],
      "metadata": {
        "colab": {
          "base_uri": "https://localhost:8080/"
        },
        "id": "6WZXB7gpjw95",
        "outputId": "789a1169-0f6e-4ff1-99bc-8bd48223e29e"
      },
      "execution_count": 58,
      "outputs": [
        {
          "output_type": "stream",
          "name": "stdout",
          "text": [
            "The attendance is 77.0\n"
          ]
        }
      ]
    },
    {
      "cell_type": "markdown",
      "source": [
        "\n",
        "And print the following statements based on the condition above\n",
        "\n",
        "\n",
        "\n",
        "*   percentage of class attended\n",
        "\n",
        "*   Is student is allowed to sit in exam or not\n",
        "\n"
      ],
      "metadata": {
        "id": "UG4SenT4jzo4"
      }
    },
    {
      "cell_type": "code",
      "source": [
        "if attendance < 75:\n",
        "  print(\"Your are not allowed to sit in exam\")\n",
        "else:\n",
        "  print(\"Your allowed to sit in exam\")"
      ],
      "metadata": {
        "colab": {
          "base_uri": "https://localhost:8080/"
        },
        "id": "743AguuPjy-n",
        "outputId": "fc84363e-d191-4eca-a2cf-c3b490d73d08"
      },
      "execution_count": 59,
      "outputs": [
        {
          "output_type": "stream",
          "name": "stdout",
          "text": [
            "Your allowed to sit in exam\n"
          ]
        }
      ]
    },
    {
      "cell_type": "markdown",
      "source": [
        "# Problem 4\n",
        "A school has following rules for grading system:\n",
        "\n",
        "\n",
        "* Below 25 - F\n",
        "\n",
        "   \n",
        "   \n",
        "\n",
        "*  25 to 45 - E\n",
        " \n",
        "\n",
        "*  45 to 50 - D\n",
        "\n",
        "*  50 to 60 - C\n",
        "\n",
        "*   60 to 80 - B\n",
        "\n",
        "*   Above 80 - A\n",
        "\n",
        "\n",
        "\n",
        "Keep the left number inclusive and the right number exclusive, something like [25,45) for grade E where the set is closed at 25 and open at 45.\n",
        "\n",
        "Write a Python code which takes marks as inputs from the user and print the corresponding grade.\n",
        "\n"
      ],
      "metadata": {
        "id": "8vhusemolJt6"
      }
    },
    {
      "cell_type": "code",
      "source": [
        "# Your input here \n",
        "print(\"Enter your marks\")\n",
        "marks = int(input())\n",
        "\n",
        "if marks > 80:\n",
        "  print(\"A\")\n",
        "elif marks >= 60 and marks <80:\n",
        "  print(\"B\")\n",
        "elif marks >= 50 and marks <60:\n",
        "  print(\"C\")\n",
        "elif marks >= 45 and marks <50:\n",
        "  print(\"D\")\n",
        "elif marks >= 25 and marks <45:\n",
        "  print(\"E\")\n",
        "elif marks < 25:\n",
        "  print(\"F\")\n",
        "else: \n",
        "  print(\"Enter The Correct Marks\")\n"
      ],
      "metadata": {
        "colab": {
          "base_uri": "https://localhost:8080/"
        },
        "id": "UdZxFq2nlyZJ",
        "outputId": "974e5b65-64d0-4bda-b358-bd50bba71e46"
      },
      "execution_count": 69,
      "outputs": [
        {
          "output_type": "stream",
          "name": "stdout",
          "text": [
            "Enter your marks\n",
            "90\n",
            "A\n"
          ]
        }
      ]
    }
  ]
}