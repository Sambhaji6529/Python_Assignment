{
  "nbformat": 4,
  "nbformat_minor": 0,
  "metadata": {
    "colab": {
      "provenance": [],
      "authorship_tag": "ABX9TyObSyooHjrYQ5elIfpnbjpW",
      "include_colab_link": true
    },
    "kernelspec": {
      "name": "python3",
      "display_name": "Python 3"
    },
    "language_info": {
      "name": "python"
    }
  },
  "cells": [
    {
      "cell_type": "markdown",
      "metadata": {
        "id": "view-in-github",
        "colab_type": "text"
      },
      "source": [
        "<a href=\"https://colab.research.google.com/github/Sambhaji6529/Python_Assignment/blob/main/Assignment_Integers%2C_Floats_%26_Booleans.ipynb\" target=\"_parent\"><img src=\"https://colab.research.google.com/assets/colab-badge.svg\" alt=\"Open In Colab\"/></a>"
      ]
    },
    {
      "cell_type": "markdown",
      "source": [
        "# Problem 1\n",
        "In a cricket tournament, based on the outcome of a particular match a team gets following points:\n",
        "\n",
        "* wins gets 3 points\n",
        "\n",
        "* draws gets 1 points\n",
        "\n",
        "* losses gets 0 points\n",
        "\n",
        "Team Aravali plays 8 matches in this tournament. It wins 4 matches, loses 3 matches and draws 1. What is the total number of points gained by the Team Aravali?"
      ],
      "metadata": {
        "id": "NbyXBXzogLWR"
      }
    },
    {
      "cell_type": "code",
      "execution_count": null,
      "metadata": {
        "id": "DTJ-qYc4f5hn"
      },
      "outputs": [],
      "source": [
        "# The outcome variables are defined below\n",
        "wins = 4\n",
        "losses = 3\n",
        "draws = 1"
      ]
    },
    {
      "cell_type": "code",
      "source": [
        "# Calculate the total points gained by Team Aravali\n",
        "wins=4 #win matches\n",
        "loses=3 #win point\n",
        "draws=1 #draws point\n",
        "draws=wins*loses+draws\n",
        "print(\"aravali_points = \" ,draws)\n"
      ],
      "metadata": {
        "colab": {
          "base_uri": "https://localhost:8080/"
        },
        "id": "bgZPhCwwg1f6",
        "outputId": "c7bf394e-2409-40d1-89dc-4617bd57baad"
      },
      "execution_count": 18,
      "outputs": [
        {
          "output_type": "stream",
          "name": "stdout",
          "text": [
            "aravali_points =  13\n"
          ]
        }
      ]
    },
    {
      "cell_type": "markdown",
      "source": [
        "# Problem 2\n",
        "* Root of a function *f(x)* is defined as the value x  where *f(x)=0*\n",
        "\n",
        "* Consider a quadratic function *f(x)* =x2+3x-4\n",
        "\n",
        "Find the value of the function *f(x)* at points x=2, x=-1, x=1\n"
      ],
      "metadata": {
        "id": "7eYIUl3dmVq-"
      }
    },
    {
      "cell_type": "code",
      "source": [
        "# Calculate the value of the function f(x) at x = 2\n",
        "x=2\n",
        "func_evaluated_at_2 =(x**2)+3*x-4 \n",
        "func_evaluated_at_2"
      ],
      "metadata": {
        "id": "OqNfeA90qR56",
        "colab": {
          "base_uri": "https://localhost:8080/"
        },
        "outputId": "f4426d53-d6bb-4cc3-b2dd-cac2fae9c9ca"
      },
      "execution_count": 2,
      "outputs": [
        {
          "output_type": "execute_result",
          "data": {
            "text/plain": [
              "6"
            ]
          },
          "metadata": {},
          "execution_count": 2
        }
      ]
    },
    {
      "cell_type": "code",
      "source": [
        "# Calculate the value of the function f(x) at x = -1\n",
        "x=-1\n",
        "func_evaluated_at_minus1 =(x**2)+3*x-4\n",
        "func_evaluated_at_minus1"
      ],
      "metadata": {
        "colab": {
          "base_uri": "https://localhost:8080/"
        },
        "id": "dHgQ09cUhAJE",
        "outputId": "f9bd0281-5cb9-4840-bf8c-8180a409ae21"
      },
      "execution_count": 3,
      "outputs": [
        {
          "output_type": "execute_result",
          "data": {
            "text/plain": [
              "-6"
            ]
          },
          "metadata": {},
          "execution_count": 3
        }
      ]
    },
    {
      "cell_type": "code",
      "source": [
        "# Calculate the value of the function f(x) at x = 1\n",
        "x=1\n",
        "func_evaluated_at_1 =(x**2)+3*x-4\n",
        "func_evaluated_at_1"
      ],
      "metadata": {
        "colab": {
          "base_uri": "https://localhost:8080/"
        },
        "id": "TvvE-TCAhTuk",
        "outputId": "b6d28762-6b90-4686-f54d-d789aca94e26"
      },
      "execution_count": 4,
      "outputs": [
        {
          "output_type": "execute_result",
          "data": {
            "text/plain": [
              "0"
            ]
          },
          "metadata": {},
          "execution_count": 4
        }
      ]
    },
    {
      "cell_type": "markdown",
      "source": [
        "Return the boolean for each value of x to find out whether that value is a root of f(x) "
      ],
      "metadata": {
        "id": "lsOXRaVQhskC"
      }
    },
    {
      "cell_type": "code",
      "source": [
        "# Check whether 2 is a root of f(x)\n",
        "func_evaluated_at_2 == 0"
      ],
      "metadata": {
        "colab": {
          "base_uri": "https://localhost:8080/"
        },
        "id": "D_H_1TkBh2nO",
        "outputId": "888b19e6-857d-4ff8-d3bc-35b322794530"
      },
      "execution_count": 5,
      "outputs": [
        {
          "output_type": "execute_result",
          "data": {
            "text/plain": [
              "False"
            ]
          },
          "metadata": {},
          "execution_count": 5
        }
      ]
    },
    {
      "cell_type": "code",
      "source": [
        "# Check whether -1 is a root of f(x)\n",
        "func_evaluated_at_minus1==0"
      ],
      "metadata": {
        "colab": {
          "base_uri": "https://localhost:8080/"
        },
        "id": "iKL-wc0KiQRh",
        "outputId": "c3239070-eada-4438-8648-fa6ae6358990"
      },
      "execution_count": 6,
      "outputs": [
        {
          "output_type": "execute_result",
          "data": {
            "text/plain": [
              "False"
            ]
          },
          "metadata": {},
          "execution_count": 6
        }
      ]
    },
    {
      "cell_type": "code",
      "source": [
        "# Check whether 1 is a root of f(x)\n",
        "func_evaluated_at_1==0"
      ],
      "metadata": {
        "colab": {
          "base_uri": "https://localhost:8080/"
        },
        "id": "i5Di7JNyitSC",
        "outputId": "d7fe2472-a218-437c-9666-add4bbdcf5df"
      },
      "execution_count": 8,
      "outputs": [
        {
          "output_type": "execute_result",
          "data": {
            "text/plain": [
              "True"
            ]
          },
          "metadata": {},
          "execution_count": 8
        }
      ]
    },
    {
      "cell_type": "markdown",
      "source": [
        "# Problem 3\n",
        "A bag contains 45 apples, 65 oranges and 30 bananas. Find the percentage of each type of food items in the bag."
      ],
      "metadata": {
        "id": "Nlc1wu8pG5wW"
      }
    },
    {
      "cell_type": "code",
      "source": [
        "# Calculate the percentage of apples and print the variable\n",
        "#variables\n",
        "apples =45\n",
        "oranges=65\n",
        "bananas=30\n",
        "\n",
        "sum_items = apples+oranges+bananas\n",
        "apples/sum_items * 100"
      ],
      "metadata": {
        "colab": {
          "base_uri": "https://localhost:8080/"
        },
        "id": "ONKtTm5xG76B",
        "outputId": "ca8e7ffa-73fc-4297-9023-75b86b05cd26"
      },
      "execution_count": 11,
      "outputs": [
        {
          "output_type": "execute_result",
          "data": {
            "text/plain": [
              "32.142857142857146"
            ]
          },
          "metadata": {},
          "execution_count": 11
        }
      ]
    },
    {
      "cell_type": "code",
      "source": [
        "# Calculate the percentage of oranges and print the variable\n",
        "oranges/sum_items * 100"
      ],
      "metadata": {
        "colab": {
          "base_uri": "https://localhost:8080/"
        },
        "id": "-rDbKIyZG8rO",
        "outputId": "1a27867c-3d6e-4bb2-ebe9-9b7a62bf7e4f"
      },
      "execution_count": 12,
      "outputs": [
        {
          "output_type": "execute_result",
          "data": {
            "text/plain": [
              "46.42857142857143"
            ]
          },
          "metadata": {},
          "execution_count": 12
        }
      ]
    },
    {
      "cell_type": "code",
      "source": [
        "# Calculate the percentage of bananas and print the variable\n",
        "bananas/sum_items * 100"
      ],
      "metadata": {
        "colab": {
          "base_uri": "https://localhost:8080/"
        },
        "id": "SpqUHk5_G8ZW",
        "outputId": "c6cb60b9-07f6-40c9-9295-0de0027d1abc"
      },
      "execution_count": 13,
      "outputs": [
        {
          "output_type": "execute_result",
          "data": {
            "text/plain": [
              "21.428571428571427"
            ]
          },
          "metadata": {},
          "execution_count": 13
        }
      ]
    },
    {
      "cell_type": "markdown",
      "source": [
        "# Problem 4\n",
        "You were playing a fun guessing game during your school break. There were a total of 100 participants excluding you. Out of these 100 people, 30 were Maths Majors, 45 were Economics Majors and 25 were Physics Majors.\n",
        "\n",
        "The game was divided into three rounds.\n",
        "\n",
        "* In the first round, you had to guess the number of Maths Majors and you correctly guessed 20 of them.\n",
        "* In the second round, you had to guess the number of Economics Majors and you correctly guessed 30 of them.\n",
        "* In the final third round, you had to guess the number of Physics Majors and you correctly guessed 20 of them.\n",
        "\n",
        " Accuracy is defined as the number of   correct guesses upon total number of people in the group (expressed in percentage)\n",
        "Define your variables\n",
        "\n",
        "* Define your variables"
      ],
      "metadata": {
        "id": "tuS0vMrCDg7W"
      }
    },
    {
      "cell_type": "code",
      "source": [
        "# Store the number of Maths majors\n",
        "\n",
        "\n",
        "# Store the number of Economics majors\n",
        "\n",
        "\n",
        "# Store the number of Physics majors\n",
        "\n",
        "\n",
        "# Store the number of your correct guesses of Maths majors\n",
        "\n",
        "\n",
        "# Store the number of your correct guesses of Economics majors\n",
        "\n",
        "\n",
        "# Store the number of your correct guesses of Physics majors"
      ],
      "metadata": {
        "id": "cyCuI1HYD0IT"
      },
      "execution_count": null,
      "outputs": []
    }
  ]
}