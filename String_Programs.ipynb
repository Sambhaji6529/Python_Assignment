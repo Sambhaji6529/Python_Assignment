{
  "nbformat": 4,
  "nbformat_minor": 0,
  "metadata": {
    "colab": {
      "provenance": [],
      "authorship_tag": "ABX9TyNODoA2HE7hOJpStBrAlf/z",
      "include_colab_link": true
    },
    "kernelspec": {
      "name": "python3",
      "display_name": "Python 3"
    },
    "language_info": {
      "name": "python"
    }
  },
  "cells": [
    {
      "cell_type": "markdown",
      "metadata": {
        "id": "view-in-github",
        "colab_type": "text"
      },
      "source": [
        "<a href=\"https://colab.research.google.com/github/Sambhaji6529/Python_Assignment/blob/main/String_Programs.ipynb\" target=\"_parent\"><img src=\"https://colab.research.google.com/assets/colab-badge.svg\" alt=\"Open In Colab\"/></a>"
      ]
    },
    {
      "cell_type": "markdown",
      "source": [
        "1.Write a Python program to calculate the length of a string."
      ],
      "metadata": {
        "id": "Y9PUlSUK505t"
      }
    },
    {
      "cell_type": "code",
      "execution_count": 1,
      "metadata": {
        "colab": {
          "base_uri": "https://localhost:8080/"
        },
        "id": "7oR9ju2u5zCw",
        "outputId": "0553b3bc-4298-48c6-c7f8-20a6ca87636d"
      },
      "outputs": [
        {
          "output_type": "execute_result",
          "data": {
            "text/plain": [
              "6"
            ]
          },
          "metadata": {},
          "execution_count": 1
        }
      ],
      "source": [
        "s='Python'\n",
        "len(s)"
      ]
    },
    {
      "cell_type": "code",
      "source": [
        "#Using Function \n",
        "def string_length(str1):\n",
        "  count=0\n",
        "  for i in str1:\n",
        "    count+=1\n",
        "  return count\n",
        "print(string_length(\"Python Programs\"))"
      ],
      "metadata": {
        "colab": {
          "base_uri": "https://localhost:8080/"
        },
        "id": "HD52z1Xk688r",
        "outputId": "fe9f68f0-cd85-478e-ddfe-a9935af74c41"
      },
      "execution_count": 2,
      "outputs": [
        {
          "output_type": "stream",
          "name": "stdout",
          "text": [
            "15\n"
          ]
        }
      ]
    },
    {
      "cell_type": "markdown",
      "source": [
        "2.Write a Python program to count the number of characters (character frequency) in a string. \n",
        "\n",
        "Sample String : google.com'\n",
        "\n",
        "Expected Result : {'g': 2, 'o': 3, 'l': 1, 'e': 1, '.': 1, 'c': 1, 'm': 1} "
      ],
      "metadata": {
        "id": "-hpYnlfH7-Gz"
      }
    },
    {
      "cell_type": "code",
      "source": [
        "s=\"google.com\"\n",
        "d={}\n",
        "for x in s:\n",
        "  if x in d.keys():\n",
        "    d[x]=d[x]+1\n",
        "  else:\n",
        "    d[x]=1\n",
        "print(d)"
      ],
      "metadata": {
        "colab": {
          "base_uri": "https://localhost:8080/"
        },
        "id": "Wsygx1zl8Lhf",
        "outputId": "86a44e8d-9bfe-43ad-9c8f-7664a6f6560b"
      },
      "execution_count": 3,
      "outputs": [
        {
          "output_type": "stream",
          "name": "stdout",
          "text": [
            "{'g': 2, 'o': 3, 'l': 1, 'e': 1, '.': 1, 'c': 1, 'm': 1}\n"
          ]
        }
      ]
    },
    {
      "cell_type": "code",
      "source": [
        "#using function\n",
        "def char_frequency(str1):\n",
        "    dict = {}\n",
        "    for n in str1:\n",
        "        keys = dict.keys()\n",
        "        if n in keys:\n",
        "            dict[n] += 1\n",
        "        else:\n",
        "            dict[n] = 1\n",
        "    return dict\n",
        "print(char_frequency('google.com'))\n"
      ],
      "metadata": {
        "colab": {
          "base_uri": "https://localhost:8080/"
        },
        "id": "R4VMgPxm-Tpk",
        "outputId": "c083b897-7d45-476b-ace0-e64d6de470b9"
      },
      "execution_count": 4,
      "outputs": [
        {
          "output_type": "stream",
          "name": "stdout",
          "text": [
            "{'g': 2, 'o': 3, 'l': 1, 'e': 1, '.': 1, 'c': 1, 'm': 1}\n"
          ]
        }
      ]
    },
    {
      "cell_type": "markdown",
      "source": [
        "3.Write a Python program to get a string made of the first 2 and last 2 characters of a given string. If the string length is less than 2, return the empty string instead. \n",
        "\n",
        "Sample String : 'w3resource'\n",
        "\n",
        "Expected Result : 'w3ce'\n",
        "\n",
        "Sample String : 'w3'\n",
        "\n",
        "Expected Result : 'w3w3'\n",
        "\n",
        "Sample String : ' w'\n",
        "\n",
        "Expected Result : Empty String"
      ],
      "metadata": {
        "id": "tzs1I5Al-iK9"
      }
    },
    {
      "cell_type": "code",
      "source": [
        "def string_both_ends(str):\n",
        "  if len(str) < 2:\n",
        "    return''\n",
        "\n",
        "  return str[0:2] + str[-2:]\n",
        "\n",
        "print(string_both_ends('w3resource'))\n",
        "print(string_both_ends('w3'))\n",
        "print(string_both_ends('w'))\n"
      ],
      "metadata": {
        "id": "tuG3D5qf-y5Y",
        "colab": {
          "base_uri": "https://localhost:8080/"
        },
        "outputId": "076922d9-689e-45dc-dad8-a9d88c8fb18e"
      },
      "execution_count": 7,
      "outputs": [
        {
          "output_type": "stream",
          "name": "stdout",
          "text": [
            "w3ce\n",
            "w3w3\n",
            "\n"
          ]
        }
      ]
    }
  ]
}